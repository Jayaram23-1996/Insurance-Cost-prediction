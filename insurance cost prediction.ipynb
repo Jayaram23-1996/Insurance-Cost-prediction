{
 "cells": [
  {
   "cell_type": "markdown",
   "id": "64296951",
   "metadata": {},
   "source": [
    "# Business Case:-Prediciting the Health Insurance Cost"
   ]
  },
  {
   "cell_type": "code",
   "execution_count": 1,
   "id": "cc4da5d3",
   "metadata": {
    "execution": {
     "iopub.execute_input": "2021-10-31T15:16:42.074248Z",
     "iopub.status.busy": "2021-10-31T15:16:42.072986Z",
     "iopub.status.idle": "2021-10-31T15:16:42.083342Z",
     "shell.execute_reply": "2021-10-31T15:16:42.083911Z",
     "shell.execute_reply.started": "2021-10-31T15:15:14.510908Z"
    },
    "papermill": {
     "duration": 0.049785,
     "end_time": "2021-10-31T15:16:42.084373",
     "exception": false,
     "start_time": "2021-10-31T15:16:42.034588",
     "status": "completed"
    },
    "tags": []
   },
   "outputs": [],
   "source": [
    "#importing the libraries\n",
    "import numpy as np\n",
    "import pandas as pd\n",
    "import matplotlib.pyplot as plt\n",
    "import seaborn as sns\n",
    "%matplotlib inline"
   ]
  },
  {
   "cell_type": "code",
   "execution_count": 2,
   "id": "3b96835b",
   "metadata": {
    "execution": {
     "iopub.execute_input": "2021-10-31T15:16:42.155333Z",
     "iopub.status.busy": "2021-10-31T15:16:42.154708Z",
     "iopub.status.idle": "2021-10-31T15:16:42.178027Z",
     "shell.execute_reply": "2021-10-31T15:16:42.178671Z",
     "shell.execute_reply.started": "2021-10-31T15:15:14.543545Z"
    },
    "papermill": {
     "duration": 0.059766,
     "end_time": "2021-10-31T15:16:42.178897",
     "exception": false,
     "start_time": "2021-10-31T15:16:42.119131",
     "status": "completed"
    },
    "tags": []
   },
   "outputs": [],
   "source": [
    "#Uploading the data from csv file to a Pandas dataframe\n",
    "insurance_cost = pd.read_csv('datasets_13720_18513_insurance(1).csv')\n"
   ]
  },
  {
   "cell_type": "markdown",
   "id": "1b86a533",
   "metadata": {},
   "source": [
    "# Basic understanding of features-- Domain Analysis**"
   ]
  },
  {
   "cell_type": "markdown",
   "id": "6716d261",
   "metadata": {},
   "source": [
    "The dataset includes information about the insurance policy holder, their dependents, and their medical expenses throughout a year.\n",
    "\n",
    "Age: Age of primary policyholder.\n",
    "\n",
    "Sex: Sex of the policy policyholder.\n",
    "\n",
    "BMI: Body Mass Index of policyholder, defined as the body mass divided by the square of the body height (kg/m2).\n",
    "\n",
    "Smoker status: Whether the policyholder is a smoker or a non-smoker.\n",
    "\n",
    "Children: Number of children/dependents covered in the policy.\n",
    "\n",
    "Region of residence: Residential areas of the policy holder (in the US) - North East, South East, South West, North West.\n",
    "\n",
    "Charges: Yearly medical expenses billed by the medical insurance provider ($).\n"
   ]
  },
  {
   "cell_type": "markdown",
   "id": "4442ca1b",
   "metadata": {
    "papermill": {
     "duration": 0.032168,
     "end_time": "2021-10-31T15:16:42.244728",
     "exception": false,
     "start_time": "2021-10-31T15:16:42.212560",
     "status": "completed"
    },
    "tags": []
   },
   "source": [
    "# Basic Checks on Data"
   ]
  },
  {
   "cell_type": "code",
   "execution_count": 3,
   "id": "4c97ace2",
   "metadata": {
    "execution": {
     "iopub.execute_input": "2021-10-31T15:16:42.312619Z",
     "iopub.status.busy": "2021-10-31T15:16:42.311951Z",
     "iopub.status.idle": "2021-10-31T15:16:42.333062Z",
     "shell.execute_reply": "2021-10-31T15:16:42.333600Z",
     "shell.execute_reply.started": "2021-10-31T15:15:14.596465Z"
    },
    "papermill": {
     "duration": 0.056772,
     "end_time": "2021-10-31T15:16:42.333811",
     "exception": false,
     "start_time": "2021-10-31T15:16:42.277039",
     "status": "completed"
    },
    "tags": []
   },
   "outputs": [
    {
     "data": {
      "text/html": [
       "<div>\n",
       "<style scoped>\n",
       "    .dataframe tbody tr th:only-of-type {\n",
       "        vertical-align: middle;\n",
       "    }\n",
       "\n",
       "    .dataframe tbody tr th {\n",
       "        vertical-align: top;\n",
       "    }\n",
       "\n",
       "    .dataframe thead th {\n",
       "        text-align: right;\n",
       "    }\n",
       "</style>\n",
       "<table border=\"1\" class=\"dataframe\">\n",
       "  <thead>\n",
       "    <tr style=\"text-align: right;\">\n",
       "      <th></th>\n",
       "      <th>age</th>\n",
       "      <th>sex</th>\n",
       "      <th>bmi</th>\n",
       "      <th>children</th>\n",
       "      <th>smoker</th>\n",
       "      <th>region</th>\n",
       "      <th>charges</th>\n",
       "    </tr>\n",
       "  </thead>\n",
       "  <tbody>\n",
       "    <tr>\n",
       "      <th>0</th>\n",
       "      <td>19</td>\n",
       "      <td>female</td>\n",
       "      <td>27.900</td>\n",
       "      <td>0</td>\n",
       "      <td>yes</td>\n",
       "      <td>southwest</td>\n",
       "      <td>16884.92400</td>\n",
       "    </tr>\n",
       "    <tr>\n",
       "      <th>1</th>\n",
       "      <td>18</td>\n",
       "      <td>male</td>\n",
       "      <td>33.770</td>\n",
       "      <td>1</td>\n",
       "      <td>no</td>\n",
       "      <td>southeast</td>\n",
       "      <td>1725.55230</td>\n",
       "    </tr>\n",
       "    <tr>\n",
       "      <th>2</th>\n",
       "      <td>28</td>\n",
       "      <td>male</td>\n",
       "      <td>33.000</td>\n",
       "      <td>3</td>\n",
       "      <td>no</td>\n",
       "      <td>southeast</td>\n",
       "      <td>4449.46200</td>\n",
       "    </tr>\n",
       "    <tr>\n",
       "      <th>3</th>\n",
       "      <td>33</td>\n",
       "      <td>male</td>\n",
       "      <td>22.705</td>\n",
       "      <td>0</td>\n",
       "      <td>no</td>\n",
       "      <td>northwest</td>\n",
       "      <td>21984.47061</td>\n",
       "    </tr>\n",
       "    <tr>\n",
       "      <th>4</th>\n",
       "      <td>32</td>\n",
       "      <td>male</td>\n",
       "      <td>28.880</td>\n",
       "      <td>0</td>\n",
       "      <td>no</td>\n",
       "      <td>northwest</td>\n",
       "      <td>3866.85520</td>\n",
       "    </tr>\n",
       "  </tbody>\n",
       "</table>\n",
       "</div>"
      ],
      "text/plain": [
       "   age     sex     bmi  children smoker     region      charges\n",
       "0   19  female  27.900         0    yes  southwest  16884.92400\n",
       "1   18    male  33.770         1     no  southeast   1725.55230\n",
       "2   28    male  33.000         3     no  southeast   4449.46200\n",
       "3   33    male  22.705         0     no  northwest  21984.47061\n",
       "4   32    male  28.880         0     no  northwest   3866.85520"
      ]
     },
     "execution_count": 3,
     "metadata": {},
     "output_type": "execute_result"
    }
   ],
   "source": [
    "insurance_cost.head()"
   ]
  },
  {
   "cell_type": "code",
   "execution_count": 4,
   "id": "21011832",
   "metadata": {
    "execution": {
     "iopub.execute_input": "2021-10-31T15:16:42.469229Z",
     "iopub.status.busy": "2021-10-31T15:16:42.468544Z",
     "iopub.status.idle": "2021-10-31T15:16:42.481941Z",
     "shell.execute_reply": "2021-10-31T15:16:42.481192Z",
     "shell.execute_reply.started": "2021-10-31T15:15:14.618216Z"
    },
    "papermill": {
     "duration": 0.049452,
     "end_time": "2021-10-31T15:16:42.482114",
     "exception": false,
     "start_time": "2021-10-31T15:16:42.432662",
     "status": "completed"
    },
    "tags": []
   },
   "outputs": [
    {
     "data": {
      "text/html": [
       "<div>\n",
       "<style scoped>\n",
       "    .dataframe tbody tr th:only-of-type {\n",
       "        vertical-align: middle;\n",
       "    }\n",
       "\n",
       "    .dataframe tbody tr th {\n",
       "        vertical-align: top;\n",
       "    }\n",
       "\n",
       "    .dataframe thead th {\n",
       "        text-align: right;\n",
       "    }\n",
       "</style>\n",
       "<table border=\"1\" class=\"dataframe\">\n",
       "  <thead>\n",
       "    <tr style=\"text-align: right;\">\n",
       "      <th></th>\n",
       "      <th>age</th>\n",
       "      <th>sex</th>\n",
       "      <th>bmi</th>\n",
       "      <th>children</th>\n",
       "      <th>smoker</th>\n",
       "      <th>region</th>\n",
       "      <th>charges</th>\n",
       "    </tr>\n",
       "  </thead>\n",
       "  <tbody>\n",
       "    <tr>\n",
       "      <th>1333</th>\n",
       "      <td>50</td>\n",
       "      <td>male</td>\n",
       "      <td>30.97</td>\n",
       "      <td>3</td>\n",
       "      <td>no</td>\n",
       "      <td>northwest</td>\n",
       "      <td>10600.5483</td>\n",
       "    </tr>\n",
       "    <tr>\n",
       "      <th>1334</th>\n",
       "      <td>18</td>\n",
       "      <td>female</td>\n",
       "      <td>31.92</td>\n",
       "      <td>0</td>\n",
       "      <td>no</td>\n",
       "      <td>northeast</td>\n",
       "      <td>2205.9808</td>\n",
       "    </tr>\n",
       "    <tr>\n",
       "      <th>1335</th>\n",
       "      <td>18</td>\n",
       "      <td>female</td>\n",
       "      <td>36.85</td>\n",
       "      <td>0</td>\n",
       "      <td>no</td>\n",
       "      <td>southeast</td>\n",
       "      <td>1629.8335</td>\n",
       "    </tr>\n",
       "    <tr>\n",
       "      <th>1336</th>\n",
       "      <td>21</td>\n",
       "      <td>female</td>\n",
       "      <td>25.80</td>\n",
       "      <td>0</td>\n",
       "      <td>no</td>\n",
       "      <td>southwest</td>\n",
       "      <td>2007.9450</td>\n",
       "    </tr>\n",
       "    <tr>\n",
       "      <th>1337</th>\n",
       "      <td>61</td>\n",
       "      <td>female</td>\n",
       "      <td>29.07</td>\n",
       "      <td>0</td>\n",
       "      <td>yes</td>\n",
       "      <td>northwest</td>\n",
       "      <td>29141.3603</td>\n",
       "    </tr>\n",
       "  </tbody>\n",
       "</table>\n",
       "</div>"
      ],
      "text/plain": [
       "      age     sex    bmi  children smoker     region     charges\n",
       "1333   50    male  30.97         3     no  northwest  10600.5483\n",
       "1334   18  female  31.92         0     no  northeast   2205.9808\n",
       "1335   18  female  36.85         0     no  southeast   1629.8335\n",
       "1336   21  female  25.80         0     no  southwest   2007.9450\n",
       "1337   61  female  29.07         0    yes  northwest  29141.3603"
      ]
     },
     "execution_count": 4,
     "metadata": {},
     "output_type": "execute_result"
    }
   ],
   "source": [
    "insurance_cost.tail()"
   ]
  },
  {
   "cell_type": "code",
   "execution_count": 5,
   "id": "bf5a54b3",
   "metadata": {},
   "outputs": [
    {
     "data": {
      "text/html": [
       "<div>\n",
       "<style scoped>\n",
       "    .dataframe tbody tr th:only-of-type {\n",
       "        vertical-align: middle;\n",
       "    }\n",
       "\n",
       "    .dataframe tbody tr th {\n",
       "        vertical-align: top;\n",
       "    }\n",
       "\n",
       "    .dataframe thead th {\n",
       "        text-align: right;\n",
       "    }\n",
       "</style>\n",
       "<table border=\"1\" class=\"dataframe\">\n",
       "  <thead>\n",
       "    <tr style=\"text-align: right;\">\n",
       "      <th></th>\n",
       "      <th>age</th>\n",
       "      <th>bmi</th>\n",
       "      <th>children</th>\n",
       "      <th>charges</th>\n",
       "    </tr>\n",
       "  </thead>\n",
       "  <tbody>\n",
       "    <tr>\n",
       "      <th>count</th>\n",
       "      <td>1338.000000</td>\n",
       "      <td>1338.000000</td>\n",
       "      <td>1338.000000</td>\n",
       "      <td>1338.000000</td>\n",
       "    </tr>\n",
       "    <tr>\n",
       "      <th>mean</th>\n",
       "      <td>39.207025</td>\n",
       "      <td>30.663397</td>\n",
       "      <td>1.094918</td>\n",
       "      <td>13270.422265</td>\n",
       "    </tr>\n",
       "    <tr>\n",
       "      <th>std</th>\n",
       "      <td>14.049960</td>\n",
       "      <td>6.098187</td>\n",
       "      <td>1.205493</td>\n",
       "      <td>12110.011237</td>\n",
       "    </tr>\n",
       "    <tr>\n",
       "      <th>min</th>\n",
       "      <td>18.000000</td>\n",
       "      <td>15.960000</td>\n",
       "      <td>0.000000</td>\n",
       "      <td>1121.873900</td>\n",
       "    </tr>\n",
       "    <tr>\n",
       "      <th>25%</th>\n",
       "      <td>27.000000</td>\n",
       "      <td>26.296250</td>\n",
       "      <td>0.000000</td>\n",
       "      <td>4740.287150</td>\n",
       "    </tr>\n",
       "    <tr>\n",
       "      <th>50%</th>\n",
       "      <td>39.000000</td>\n",
       "      <td>30.400000</td>\n",
       "      <td>1.000000</td>\n",
       "      <td>9382.033000</td>\n",
       "    </tr>\n",
       "    <tr>\n",
       "      <th>75%</th>\n",
       "      <td>51.000000</td>\n",
       "      <td>34.693750</td>\n",
       "      <td>2.000000</td>\n",
       "      <td>16639.912515</td>\n",
       "    </tr>\n",
       "    <tr>\n",
       "      <th>max</th>\n",
       "      <td>64.000000</td>\n",
       "      <td>53.130000</td>\n",
       "      <td>5.000000</td>\n",
       "      <td>63770.428010</td>\n",
       "    </tr>\n",
       "  </tbody>\n",
       "</table>\n",
       "</div>"
      ],
      "text/plain": [
       "               age          bmi     children       charges\n",
       "count  1338.000000  1338.000000  1338.000000   1338.000000\n",
       "mean     39.207025    30.663397     1.094918  13270.422265\n",
       "std      14.049960     6.098187     1.205493  12110.011237\n",
       "min      18.000000    15.960000     0.000000   1121.873900\n",
       "25%      27.000000    26.296250     0.000000   4740.287150\n",
       "50%      39.000000    30.400000     1.000000   9382.033000\n",
       "75%      51.000000    34.693750     2.000000  16639.912515\n",
       "max      64.000000    53.130000     5.000000  63770.428010"
      ]
     },
     "execution_count": 5,
     "metadata": {},
     "output_type": "execute_result"
    }
   ],
   "source": [
    "insurance_cost.describe()"
   ]
  },
  {
   "cell_type": "code",
   "execution_count": 6,
   "id": "35e7375a",
   "metadata": {
    "execution": {
     "iopub.execute_input": "2021-10-31T15:16:42.621135Z",
     "iopub.status.busy": "2021-10-31T15:16:42.620422Z",
     "iopub.status.idle": "2021-10-31T15:16:42.626023Z",
     "shell.execute_reply": "2021-10-31T15:16:42.625399Z",
     "shell.execute_reply.started": "2021-10-31T15:15:14.636624Z"
    },
    "papermill": {
     "duration": 0.04193,
     "end_time": "2021-10-31T15:16:42.626188",
     "exception": false,
     "start_time": "2021-10-31T15:16:42.584258",
     "status": "completed"
    },
    "tags": []
   },
   "outputs": [
    {
     "name": "stdout",
     "output_type": "stream",
     "text": [
      "<class 'pandas.core.frame.DataFrame'>\n",
      "RangeIndex: 1338 entries, 0 to 1337\n",
      "Data columns (total 7 columns):\n",
      " #   Column    Non-Null Count  Dtype  \n",
      "---  ------    --------------  -----  \n",
      " 0   age       1338 non-null   int64  \n",
      " 1   sex       1338 non-null   object \n",
      " 2   bmi       1338 non-null   float64\n",
      " 3   children  1338 non-null   int64  \n",
      " 4   smoker    1338 non-null   object \n",
      " 5   region    1338 non-null   object \n",
      " 6   charges   1338 non-null   float64\n",
      "dtypes: float64(2), int64(2), object(3)\n",
      "memory usage: 73.3+ KB\n"
     ]
    }
   ],
   "source": [
    "insurance_cost.info()"
   ]
  },
  {
   "cell_type": "code",
   "execution_count": 7,
   "id": "45fbaa64",
   "metadata": {},
   "outputs": [
    {
     "data": {
      "text/plain": [
       "(1338, 7)"
      ]
     },
     "execution_count": 7,
     "metadata": {},
     "output_type": "execute_result"
    }
   ],
   "source": [
    "insurance_cost.shape"
   ]
  },
  {
   "cell_type": "code",
   "execution_count": 8,
   "id": "ad4f3d2b",
   "metadata": {
    "execution": {
     "iopub.execute_input": "2021-10-31T15:16:42.698361Z",
     "iopub.status.busy": "2021-10-31T15:16:42.697718Z",
     "iopub.status.idle": "2021-10-31T15:16:42.702545Z",
     "shell.execute_reply": "2021-10-31T15:16:42.703182Z",
     "shell.execute_reply.started": "2021-10-31T15:15:14.645728Z"
    },
    "papermill": {
     "duration": 0.043596,
     "end_time": "2021-10-31T15:16:42.703371",
     "exception": false,
     "start_time": "2021-10-31T15:16:42.659775",
     "status": "completed"
    },
    "tags": []
   },
   "outputs": [
    {
     "name": "stdout",
     "output_type": "stream",
     "text": [
      "Number of Rows 1338\n",
      "Number of Columns 7\n"
     ]
    }
   ],
   "source": [
    "print(\"Number of Rows\",insurance_cost.shape[0])\n",
    "print(\"Number of Columns\",insurance_cost.shape[1])"
   ]
  },
  {
   "cell_type": "markdown",
   "id": "feb7755c",
   "metadata": {},
   "source": [
    "# Exploratory Data Analysis"
   ]
  },
  {
   "cell_type": "markdown",
   "id": "ce4a4df6",
   "metadata": {},
   "source": [
    "## Univariate Analysis-Analyzing single variable"
   ]
  },
  {
   "cell_type": "code",
   "execution_count": 9,
   "id": "1fdbbe94",
   "metadata": {},
   "outputs": [],
   "source": [
    "## Renaming certain columns just to make analysis easy\n",
    "insurance_cost.rename(columns={'age':'Age','sex':'Sex',\n",
    "                     'bmi':'BMI',\n",
    "                     'children':'Children','smoker':'Smoker','region':'Region','charges':'Charges'}\n",
    "            ,inplace=True)"
   ]
  },
  {
   "cell_type": "code",
   "execution_count": 10,
   "id": "a6ef5849",
   "metadata": {},
   "outputs": [
    {
     "data": {
      "text/plain": [
       "Index(['Age', 'Sex', 'BMI', 'Children', 'Smoker', 'Region', 'Charges'], dtype='object')"
      ]
     },
     "execution_count": 10,
     "metadata": {},
     "output_type": "execute_result"
    }
   ],
   "source": [
    "insurance_cost.columns"
   ]
  },
  {
   "cell_type": "code",
   "execution_count": 11,
   "id": "99999569",
   "metadata": {},
   "outputs": [
    {
     "name": "stderr",
     "output_type": "stream",
     "text": [
      "C:\\Users\\ROG ZEPHYRUS\\anaconda3\\Data science\\lib\\site-packages\\seaborn\\distributions.py:2619: FutureWarning: `distplot` is a deprecated function and will be removed in a future version. Please adapt your code to use either `displot` (a figure-level function with similar flexibility) or `histplot` (an axes-level function for histograms).\n",
      "  warnings.warn(msg, FutureWarning)\n"
     ]
    },
    {
     "data": {
      "image/png": "[encoded data removed]",
      "text/plain": [
       "<Figure size 432x288 with 1 Axes>"
      ]
     },
     "metadata": {
      "needs_background": "light"
     },
     "output_type": "display_data"
    }
   ],
   "source": [
    "## Analyszing Age\n",
    "\n",
    "sns.distplot(insurance_cost.Age.dropna(axis=0))\n",
    "plt.title('Age Distribution')\n",
    "## Normal distribution\n",
    "plt.show()"
   ]
  },
  {
   "cell_type": "code",
   "execution_count": 12,
   "id": "f9a3cf8d",
   "metadata": {},
   "outputs": [
    {
     "name": "stderr",
     "output_type": "stream",
     "text": [
      "C:\\Users\\ROG ZEPHYRUS\\anaconda3\\Data science\\lib\\site-packages\\seaborn\\_decorators.py:36: FutureWarning: Pass the following variable as a keyword arg: x. From version 0.12, the only valid positional argument will be `data`, and passing other arguments without an explicit keyword will result in an error or misinterpretation.\n",
      "  warnings.warn(\n"
     ]
    },
    {
     "data": {
      "image/png": "[encoded data removed]",
      "text/plain": [
       "<Figure size 432x288 with 1 Axes>"
      ]
     },
     "metadata": {
      "needs_background": "light"
     },
     "output_type": "display_data"
    }
   ],
   "source": [
    "## Analyszing Sex ,we are using count plot for this categorical data.\n",
    "\n",
    "sns.countplot(insurance_cost.Sex.dropna(axis=0))\n",
    "plt.title('Sex Distribution')\n",
    "## Normal distribution\n",
    "plt.show()"
   ]
  },
  {
   "cell_type": "code",
   "execution_count": 13,
   "id": "10752d34",
   "metadata": {},
   "outputs": [
    {
     "name": "stderr",
     "output_type": "stream",
     "text": [
      "C:\\Users\\ROG ZEPHYRUS\\anaconda3\\Data science\\lib\\site-packages\\seaborn\\distributions.py:2619: FutureWarning: `distplot` is a deprecated function and will be removed in a future version. Please adapt your code to use either `displot` (a figure-level function with similar flexibility) or `histplot` (an axes-level function for histograms).\n",
      "  warnings.warn(msg, FutureWarning)\n"
     ]
    },
    {
     "data": {
      "image/png": "[encoded data removed]",
      "text/plain": [
       "<Figure size 432x288 with 1 Axes>"
      ]
     },
     "metadata": {
      "needs_background": "light"
     },
     "output_type": "display_data"
    }
   ],
   "source": [
    "## Analyszing BMI\n",
    "\n",
    "sns.distplot(insurance_cost.BMI.dropna(axis=0))\n",
    "plt.title('BMI Distribution')\n",
    "## Normal distribution\n",
    "plt.show()"
   ]
  },
  {
   "cell_type": "code",
   "execution_count": 14,
   "id": "92967c75",
   "metadata": {},
   "outputs": [
    {
     "name": "stderr",
     "output_type": "stream",
     "text": [
      "C:\\Users\\ROG ZEPHYRUS\\anaconda3\\Data science\\lib\\site-packages\\seaborn\\_decorators.py:36: FutureWarning: Pass the following variable as a keyword arg: x. From version 0.12, the only valid positional argument will be `data`, and passing other arguments without an explicit keyword will result in an error or misinterpretation.\n",
      "  warnings.warn(\n"
     ]
    },
    {
     "data": {
      "image/png": "[encoded data removed]",
      "text/plain": [
       "<Figure size 432x288 with 1 Axes>"
      ]
     },
     "metadata": {
      "needs_background": "light"
     },
     "output_type": "display_data"
    }
   ],
   "source": [
    "## Analyszing Children\n",
    "\n",
    "sns.countplot(insurance_cost.Children.dropna(axis=0))\n",
    "plt.title('Children Distribution')\n",
    "## Normal distribution\n",
    "plt.show()"
   ]
  },
  {
   "cell_type": "code",
   "execution_count": 15,
   "id": "6b9e7e93",
   "metadata": {},
   "outputs": [
    {
     "data": {
      "text/plain": [
       "0    574\n",
       "1    324\n",
       "2    240\n",
       "3    157\n",
       "4     25\n",
       "5     18\n",
       "Name: Children, dtype: int64"
      ]
     },
     "execution_count": 15,
     "metadata": {},
     "output_type": "execute_result"
    }
   ],
   "source": [
    "insurance_cost['Children'].value_counts()"
   ]
  },
  {
   "cell_type": "code",
   "execution_count": 16,
   "id": "eb9b231c",
   "metadata": {},
   "outputs": [
    {
     "name": "stderr",
     "output_type": "stream",
     "text": [
      "C:\\Users\\ROG ZEPHYRUS\\anaconda3\\Data science\\lib\\site-packages\\seaborn\\_decorators.py:36: FutureWarning: Pass the following variable as a keyword arg: x. From version 0.12, the only valid positional argument will be `data`, and passing other arguments without an explicit keyword will result in an error or misinterpretation.\n",
      "  warnings.warn(\n"
     ]
    },
    {
     "data": {
      "image/png": "[encoded data removed]",
      "text/plain": [
       "<Figure size 432x288 with 1 Axes>"
      ]
     },
     "metadata": {
      "needs_background": "light"
     },
     "output_type": "display_data"
    }
   ],
   "source": [
    "## Analyszing Smoker\n",
    "\n",
    "sns.countplot(insurance_cost.Smoker.dropna(axis=0))\n",
    "plt.title('Smoker Distribution')\n",
    "## Normal distribution\n",
    "plt.show()"
   ]
  },
  {
   "cell_type": "code",
   "execution_count": 17,
   "id": "43b77cae",
   "metadata": {},
   "outputs": [
    {
     "name": "stderr",
     "output_type": "stream",
     "text": [
      "C:\\Users\\ROG ZEPHYRUS\\anaconda3\\Data science\\lib\\site-packages\\seaborn\\_decorators.py:36: FutureWarning: Pass the following variable as a keyword arg: x. From version 0.12, the only valid positional argument will be `data`, and passing other arguments without an explicit keyword will result in an error or misinterpretation.\n",
      "  warnings.warn(\n"
     ]
    },
    {
     "data": {
      "image/png": "[encoded data removed]",
      "text/plain": [
       "<Figure size 432x288 with 1 Axes>"
      ]
     },
     "metadata": {
      "needs_background": "light"
     },
     "output_type": "display_data"
    }
   ],
   "source": [
    "## Analyszing Region\n",
    "\n",
    "sns.countplot(insurance_cost.Region.dropna(axis=0))\n",
    "plt.title('Region Distribution')\n",
    "## Normal distribution\n",
    "plt.show()"
   ]
  },
  {
   "cell_type": "code",
   "execution_count": 18,
   "id": "f4a3aa3c",
   "metadata": {},
   "outputs": [
    {
     "name": "stderr",
     "output_type": "stream",
     "text": [
      "C:\\Users\\ROG ZEPHYRUS\\anaconda3\\Data science\\lib\\site-packages\\seaborn\\distributions.py:2619: FutureWarning: `distplot` is a deprecated function and will be removed in a future version. Please adapt your code to use either `displot` (a figure-level function with similar flexibility) or `histplot` (an axes-level function for histograms).\n",
      "  warnings.warn(msg, FutureWarning)\n"
     ]
    },
    {
     "data": {
      "image/png": "[encoded data removed]",
      "text/plain": [
       "<Figure size 432x288 with 1 Axes>"
      ]
     },
     "metadata": {
      "needs_background": "light"
     },
     "output_type": "display_data"
    }
   ],
   "source": [
    "## Analyszing Charges\n",
    "\n",
    "sns.distplot(insurance_cost.Charges.dropna(axis=0))\n",
    "plt.title('Charges Distribution')\n",
    "## Normal distribution\n",
    "plt.show()"
   ]
  },
  {
   "cell_type": "code",
   "execution_count": 19,
   "id": "7b009105",
   "metadata": {},
   "outputs": [],
   "source": [
    "#Encoding sex column\n",
    "insurance_cost.replace({'Sex':{'male':1,'female':0}},inplace=True)"
   ]
  },
  {
   "cell_type": "code",
   "execution_count": 20,
   "id": "77071756",
   "metadata": {},
   "outputs": [],
   "source": [
    "insurance_cost.replace({'Smoker':{'yes':1,'no':0}},inplace=True)"
   ]
  },
  {
   "cell_type": "code",
   "execution_count": 21,
   "id": "57f0927f",
   "metadata": {},
   "outputs": [],
   "source": [
    "insurance_cost.replace({'Region':{'southeast':0,'southwest':1,'northeast':2,'northwest':3}},inplace=True)"
   ]
  },
  {
   "cell_type": "code",
   "execution_count": 22,
   "id": "76b2b3e4",
   "metadata": {},
   "outputs": [
    {
     "data": {
      "text/html": [
       "<div>\n",
       "<style scoped>\n",
       "    .dataframe tbody tr th:only-of-type {\n",
       "        vertical-align: middle;\n",
       "    }\n",
       "\n",
       "    .dataframe tbody tr th {\n",
       "        vertical-align: top;\n",
       "    }\n",
       "\n",
       "    .dataframe thead th {\n",
       "        text-align: right;\n",
       "    }\n",
       "</style>\n",
       "<table border=\"1\" class=\"dataframe\">\n",
       "  <thead>\n",
       "    <tr style=\"text-align: right;\">\n",
       "      <th></th>\n",
       "      <th>Age</th>\n",
       "      <th>Sex</th>\n",
       "      <th>BMI</th>\n",
       "      <th>Children</th>\n",
       "      <th>Smoker</th>\n",
       "      <th>Region</th>\n",
       "      <th>Charges</th>\n",
       "    </tr>\n",
       "  </thead>\n",
       "  <tbody>\n",
       "    <tr>\n",
       "      <th>0</th>\n",
       "      <td>19</td>\n",
       "      <td>0</td>\n",
       "      <td>27.900</td>\n",
       "      <td>0</td>\n",
       "      <td>1</td>\n",
       "      <td>1</td>\n",
       "      <td>16884.92400</td>\n",
       "    </tr>\n",
       "    <tr>\n",
       "      <th>1</th>\n",
       "      <td>18</td>\n",
       "      <td>1</td>\n",
       "      <td>33.770</td>\n",
       "      <td>1</td>\n",
       "      <td>0</td>\n",
       "      <td>0</td>\n",
       "      <td>1725.55230</td>\n",
       "    </tr>\n",
       "    <tr>\n",
       "      <th>2</th>\n",
       "      <td>28</td>\n",
       "      <td>1</td>\n",
       "      <td>33.000</td>\n",
       "      <td>3</td>\n",
       "      <td>0</td>\n",
       "      <td>0</td>\n",
       "      <td>4449.46200</td>\n",
       "    </tr>\n",
       "    <tr>\n",
       "      <th>3</th>\n",
       "      <td>33</td>\n",
       "      <td>1</td>\n",
       "      <td>22.705</td>\n",
       "      <td>0</td>\n",
       "      <td>0</td>\n",
       "      <td>3</td>\n",
       "      <td>21984.47061</td>\n",
       "    </tr>\n",
       "    <tr>\n",
       "      <th>4</th>\n",
       "      <td>32</td>\n",
       "      <td>1</td>\n",
       "      <td>28.880</td>\n",
       "      <td>0</td>\n",
       "      <td>0</td>\n",
       "      <td>3</td>\n",
       "      <td>3866.85520</td>\n",
       "    </tr>\n",
       "    <tr>\n",
       "      <th>...</th>\n",
       "      <td>...</td>\n",
       "      <td>...</td>\n",
       "      <td>...</td>\n",
       "      <td>...</td>\n",
       "      <td>...</td>\n",
       "      <td>...</td>\n",
       "      <td>...</td>\n",
       "    </tr>\n",
       "    <tr>\n",
       "      <th>1333</th>\n",
       "      <td>50</td>\n",
       "      <td>1</td>\n",
       "      <td>30.970</td>\n",
       "      <td>3</td>\n",
       "      <td>0</td>\n",
       "      <td>3</td>\n",
       "      <td>10600.54830</td>\n",
       "    </tr>\n",
       "    <tr>\n",
       "      <th>1334</th>\n",
       "      <td>18</td>\n",
       "      <td>0</td>\n",
       "      <td>31.920</td>\n",
       "      <td>0</td>\n",
       "      <td>0</td>\n",
       "      <td>2</td>\n",
       "      <td>2205.98080</td>\n",
       "    </tr>\n",
       "    <tr>\n",
       "      <th>1335</th>\n",
       "      <td>18</td>\n",
       "      <td>0</td>\n",
       "      <td>36.850</td>\n",
       "      <td>0</td>\n",
       "      <td>0</td>\n",
       "      <td>0</td>\n",
       "      <td>1629.83350</td>\n",
       "    </tr>\n",
       "    <tr>\n",
       "      <th>1336</th>\n",
       "      <td>21</td>\n",
       "      <td>0</td>\n",
       "      <td>25.800</td>\n",
       "      <td>0</td>\n",
       "      <td>0</td>\n",
       "      <td>1</td>\n",
       "      <td>2007.94500</td>\n",
       "    </tr>\n",
       "    <tr>\n",
       "      <th>1337</th>\n",
       "      <td>61</td>\n",
       "      <td>0</td>\n",
       "      <td>29.070</td>\n",
       "      <td>0</td>\n",
       "      <td>1</td>\n",
       "      <td>3</td>\n",
       "      <td>29141.36030</td>\n",
       "    </tr>\n",
       "  </tbody>\n",
       "</table>\n",
       "<p>1338 rows × 7 columns</p>\n",
       "</div>"
      ],
      "text/plain": [
       "      Age  Sex     BMI  Children  Smoker  Region      Charges\n",
       "0      19    0  27.900         0       1       1  16884.92400\n",
       "1      18    1  33.770         1       0       0   1725.55230\n",
       "2      28    1  33.000         3       0       0   4449.46200\n",
       "3      33    1  22.705         0       0       3  21984.47061\n",
       "4      32    1  28.880         0       0       3   3866.85520\n",
       "...   ...  ...     ...       ...     ...     ...          ...\n",
       "1333   50    1  30.970         3       0       3  10600.54830\n",
       "1334   18    0  31.920         0       0       2   2205.98080\n",
       "1335   18    0  36.850         0       0       0   1629.83350\n",
       "1336   21    0  25.800         0       0       1   2007.94500\n",
       "1337   61    0  29.070         0       1       3  29141.36030\n",
       "\n",
       "[1338 rows x 7 columns]"
      ]
     },
     "execution_count": 22,
     "metadata": {},
     "output_type": "execute_result"
    }
   ],
   "source": [
    "insurance_cost"
   ]
  },
  {
   "cell_type": "markdown",
   "id": "241f9f4a",
   "metadata": {
    "execution": {
     "iopub.execute_input": "2021-10-31T15:16:43.494075Z",
     "iopub.status.busy": "2021-10-31T15:16:43.493102Z",
     "iopub.status.idle": "2021-10-31T15:16:43.506190Z",
     "shell.execute_reply": "2021-10-31T15:16:43.505632Z",
     "shell.execute_reply.started": "2021-10-31T15:15:14.765045Z"
    },
    "papermill": {
     "duration": 0.051387,
     "end_time": "2021-10-31T15:16:43.506328",
     "exception": false,
     "start_time": "2021-10-31T15:16:43.454941",
     "status": "completed"
    },
    "tags": []
   },
   "source": [
    "## Bivariate Analysis-->Analyzing 2 variables at a time."
   ]
  },
  {
   "cell_type": "code",
   "execution_count": 23,
   "id": "be796e22",
   "metadata": {},
   "outputs": [],
   "source": [
    "insurance_cost1=insurance_cost[['Age','Sex', 'BMI','Children','Smoker','Region','Charges']]"
   ]
  },
  {
   "cell_type": "code",
   "execution_count": 24,
   "id": "03b815d4",
   "metadata": {},
   "outputs": [
    {
     "data": {
      "text/html": [
       "<div>\n",
       "<style scoped>\n",
       "    .dataframe tbody tr th:only-of-type {\n",
       "        vertical-align: middle;\n",
       "    }\n",
       "\n",
       "    .dataframe tbody tr th {\n",
       "        vertical-align: top;\n",
       "    }\n",
       "\n",
       "    .dataframe thead th {\n",
       "        text-align: right;\n",
       "    }\n",
       "</style>\n",
       "<table border=\"1\" class=\"dataframe\">\n",
       "  <thead>\n",
       "    <tr style=\"text-align: right;\">\n",
       "      <th></th>\n",
       "      <th>Age</th>\n",
       "      <th>Sex</th>\n",
       "      <th>BMI</th>\n",
       "      <th>Children</th>\n",
       "      <th>Smoker</th>\n",
       "      <th>Region</th>\n",
       "      <th>Charges</th>\n",
       "    </tr>\n",
       "  </thead>\n",
       "  <tbody>\n",
       "    <tr>\n",
       "      <th>0</th>\n",
       "      <td>19</td>\n",
       "      <td>0</td>\n",
       "      <td>27.900</td>\n",
       "      <td>0</td>\n",
       "      <td>1</td>\n",
       "      <td>1</td>\n",
       "      <td>16884.92400</td>\n",
       "    </tr>\n",
       "    <tr>\n",
       "      <th>1</th>\n",
       "      <td>18</td>\n",
       "      <td>1</td>\n",
       "      <td>33.770</td>\n",
       "      <td>1</td>\n",
       "      <td>0</td>\n",
       "      <td>0</td>\n",
       "      <td>1725.55230</td>\n",
       "    </tr>\n",
       "    <tr>\n",
       "      <th>2</th>\n",
       "      <td>28</td>\n",
       "      <td>1</td>\n",
       "      <td>33.000</td>\n",
       "      <td>3</td>\n",
       "      <td>0</td>\n",
       "      <td>0</td>\n",
       "      <td>4449.46200</td>\n",
       "    </tr>\n",
       "    <tr>\n",
       "      <th>3</th>\n",
       "      <td>33</td>\n",
       "      <td>1</td>\n",
       "      <td>22.705</td>\n",
       "      <td>0</td>\n",
       "      <td>0</td>\n",
       "      <td>3</td>\n",
       "      <td>21984.47061</td>\n",
       "    </tr>\n",
       "    <tr>\n",
       "      <th>4</th>\n",
       "      <td>32</td>\n",
       "      <td>1</td>\n",
       "      <td>28.880</td>\n",
       "      <td>0</td>\n",
       "      <td>0</td>\n",
       "      <td>3</td>\n",
       "      <td>3866.85520</td>\n",
       "    </tr>\n",
       "    <tr>\n",
       "      <th>...</th>\n",
       "      <td>...</td>\n",
       "      <td>...</td>\n",
       "      <td>...</td>\n",
       "      <td>...</td>\n",
       "      <td>...</td>\n",
       "      <td>...</td>\n",
       "      <td>...</td>\n",
       "    </tr>\n",
       "    <tr>\n",
       "      <th>1333</th>\n",
       "      <td>50</td>\n",
       "      <td>1</td>\n",
       "      <td>30.970</td>\n",
       "      <td>3</td>\n",
       "      <td>0</td>\n",
       "      <td>3</td>\n",
       "      <td>10600.54830</td>\n",
       "    </tr>\n",
       "    <tr>\n",
       "      <th>1334</th>\n",
       "      <td>18</td>\n",
       "      <td>0</td>\n",
       "      <td>31.920</td>\n",
       "      <td>0</td>\n",
       "      <td>0</td>\n",
       "      <td>2</td>\n",
       "      <td>2205.98080</td>\n",
       "    </tr>\n",
       "    <tr>\n",
       "      <th>1335</th>\n",
       "      <td>18</td>\n",
       "      <td>0</td>\n",
       "      <td>36.850</td>\n",
       "      <td>0</td>\n",
       "      <td>0</td>\n",
       "      <td>0</td>\n",
       "      <td>1629.83350</td>\n",
       "    </tr>\n",
       "    <tr>\n",
       "      <th>1336</th>\n",
       "      <td>21</td>\n",
       "      <td>0</td>\n",
       "      <td>25.800</td>\n",
       "      <td>0</td>\n",
       "      <td>0</td>\n",
       "      <td>1</td>\n",
       "      <td>2007.94500</td>\n",
       "    </tr>\n",
       "    <tr>\n",
       "      <th>1337</th>\n",
       "      <td>61</td>\n",
       "      <td>0</td>\n",
       "      <td>29.070</td>\n",
       "      <td>0</td>\n",
       "      <td>1</td>\n",
       "      <td>3</td>\n",
       "      <td>29141.36030</td>\n",
       "    </tr>\n",
       "  </tbody>\n",
       "</table>\n",
       "<p>1338 rows × 7 columns</p>\n",
       "</div>"
      ],
      "text/plain": [
       "      Age  Sex     BMI  Children  Smoker  Region      Charges\n",
       "0      19    0  27.900         0       1       1  16884.92400\n",
       "1      18    1  33.770         1       0       0   1725.55230\n",
       "2      28    1  33.000         3       0       0   4449.46200\n",
       "3      33    1  22.705         0       0       3  21984.47061\n",
       "4      32    1  28.880         0       0       3   3866.85520\n",
       "...   ...  ...     ...       ...     ...     ...          ...\n",
       "1333   50    1  30.970         3       0       3  10600.54830\n",
       "1334   18    0  31.920         0       0       2   2205.98080\n",
       "1335   18    0  36.850         0       0       0   1629.83350\n",
       "1336   21    0  25.800         0       0       1   2007.94500\n",
       "1337   61    0  29.070         0       1       3  29141.36030\n",
       "\n",
       "[1338 rows x 7 columns]"
      ]
     },
     "execution_count": 24,
     "metadata": {},
     "output_type": "execute_result"
    }
   ],
   "source": [
    "insurance_cost1"
   ]
  },
  {
   "cell_type": "code",
   "execution_count": 25,
   "id": "c64d004c",
   "metadata": {},
   "outputs": [
    {
     "data": {
      "image/png": "[encoded data removed]",
      "text/plain": [
       "<Figure size 1800x2160 with 7 Axes>"
      ]
     },
     "metadata": {},
     "output_type": "display_data"
    }
   ],
   "source": [
    "plt.figure(figsize=(25,30), facecolor='white')#To set canvas \n",
    "plotnumber = 1#counter\n",
    "\n",
    "for column in insurance_cost1:#accessing the columns \n",
    "    if plotnumber<=16 :\n",
    "        ax = plt.subplot(4,4,plotnumber)#plotting 8 graph\n",
    "        sns.scatterplot(x=insurance_cost1[column].dropna(axis=0)#scatter plot\n",
    "                        ,y=insurance_cost1.Charges)\n",
    "        plt.xlabel(column,fontsize=20)#assign name to x-axis and set font-20\n",
    "        plt.ylabel('Charges',fontsize=20)\n",
    "    plotnumber+=1#counter increment\n",
    "plt.tight_layout()"
   ]
  },
  {
   "cell_type": "markdown",
   "id": "704cf3f9",
   "metadata": {},
   "source": [
    "## Bivariate and Multivariate Analysis"
   ]
  },
  {
   "cell_type": "markdown",
   "id": "938aaabd",
   "metadata": {},
   "source": [
    "# Data Preprocessing"
   ]
  },
  {
   "cell_type": "markdown",
   "id": "2079939a",
   "metadata": {},
   "source": [
    "## Checking the missing values"
   ]
  },
  {
   "cell_type": "code",
   "execution_count": 26,
   "id": "dcb04bab",
   "metadata": {},
   "outputs": [
    {
     "data": {
      "text/plain": [
       "Age         0\n",
       "Sex         0\n",
       "BMI         0\n",
       "Children    0\n",
       "Smoker      0\n",
       "Region      0\n",
       "Charges     0\n",
       "dtype: int64"
      ]
     },
     "execution_count": 26,
     "metadata": {},
     "output_type": "execute_result"
    }
   ],
   "source": [
    "## Checking missing values\n",
    "insurance_cost1.isnull().sum()"
   ]
  },
  {
   "cell_type": "markdown",
   "id": "1d7570b1",
   "metadata": {},
   "source": [
    "# # checking for outlier "
   ]
  },
  {
   "cell_type": "code",
   "execution_count": 27,
   "id": "da4b090d",
   "metadata": {},
   "outputs": [
    {
     "data": {
      "image/png": "[encoded data removed]",
      "text/plain": [
       "<Figure size 720x1080 with 2 Axes>"
      ]
     },
     "metadata": {},
     "output_type": "display_data"
    }
   ],
   "source": [
    "## Lets check outliers in any\n",
    "Box=insurance_cost1[['Age','BMI']]\n",
    "plt.figure(figsize=(10,15), facecolor='white')\n",
    "plotnumber = 1#counter\n",
    "\n",
    "for column in Box:#acc\n",
    "    if plotnumber<=6 : # as there are 9 columns in the data\n",
    "        ax = plt.subplot(4,2,plotnumber)#plotting 3 graphs\n",
    "        sns.boxplot(x=Box[column])#boxplot to check for outlier\n",
    "        plt.xlabel(column,fontsize=20)#assign name to x-axis and set font-20\n",
    "        #plt.ylabel\n",
    "    plotnumber+=1#counter increment \n",
    "plt.show()#to show plot"
   ]
  },
  {
   "cell_type": "markdown",
   "id": "5bc4be40",
   "metadata": {},
   "source": [
    "We have observed outliers for BMI"
   ]
  },
  {
   "cell_type": "markdown",
   "id": "e794a38f",
   "metadata": {},
   "source": [
    "## Handling Outliers"
   ]
  },
  {
   "cell_type": "code",
   "execution_count": 28,
   "id": "1dd0822a",
   "metadata": {},
   "outputs": [],
   "source": [
    "from scipy import stats"
   ]
  },
  {
   "cell_type": "markdown",
   "id": "83fba6bd",
   "metadata": {},
   "source": [
    "## BMI"
   ]
  },
  {
   "cell_type": "code",
   "execution_count": 29,
   "id": "56c849ea",
   "metadata": {},
   "outputs": [],
   "source": [
    "upper_limit=insurance_cost1.BMI.mean() + 3*insurance_cost1.BMI.std()\n",
    "lower_limit=insurance_cost1.BMI.mean() - 3*insurance_cost1.BMI.std()"
   ]
  },
  {
   "cell_type": "code",
   "execution_count": 30,
   "id": "06c96cf7",
   "metadata": {},
   "outputs": [
    {
     "data": {
      "text/html": [
       "<div>\n",
       "<style scoped>\n",
       "    .dataframe tbody tr th:only-of-type {\n",
       "        vertical-align: middle;\n",
       "    }\n",
       "\n",
       "    .dataframe tbody tr th {\n",
       "        vertical-align: top;\n",
       "    }\n",
       "\n",
       "    .dataframe thead th {\n",
       "        text-align: right;\n",
       "    }\n",
       "</style>\n",
       "<table border=\"1\" class=\"dataframe\">\n",
       "  <thead>\n",
       "    <tr style=\"text-align: right;\">\n",
       "      <th></th>\n",
       "      <th>Age</th>\n",
       "      <th>Sex</th>\n",
       "      <th>BMI</th>\n",
       "      <th>Children</th>\n",
       "      <th>Smoker</th>\n",
       "      <th>Region</th>\n",
       "      <th>Charges</th>\n",
       "    </tr>\n",
       "  </thead>\n",
       "  <tbody>\n",
       "    <tr>\n",
       "      <th>116</th>\n",
       "      <td>58</td>\n",
       "      <td>1</td>\n",
       "      <td>49.06</td>\n",
       "      <td>0</td>\n",
       "      <td>0</td>\n",
       "      <td>0</td>\n",
       "      <td>11381.3254</td>\n",
       "    </tr>\n",
       "    <tr>\n",
       "      <th>847</th>\n",
       "      <td>23</td>\n",
       "      <td>1</td>\n",
       "      <td>50.38</td>\n",
       "      <td>1</td>\n",
       "      <td>0</td>\n",
       "      <td>0</td>\n",
       "      <td>2438.0552</td>\n",
       "    </tr>\n",
       "    <tr>\n",
       "      <th>1047</th>\n",
       "      <td>22</td>\n",
       "      <td>1</td>\n",
       "      <td>52.58</td>\n",
       "      <td>1</td>\n",
       "      <td>1</td>\n",
       "      <td>0</td>\n",
       "      <td>44501.3982</td>\n",
       "    </tr>\n",
       "    <tr>\n",
       "      <th>1317</th>\n",
       "      <td>18</td>\n",
       "      <td>1</td>\n",
       "      <td>53.13</td>\n",
       "      <td>0</td>\n",
       "      <td>0</td>\n",
       "      <td>0</td>\n",
       "      <td>1163.4627</td>\n",
       "    </tr>\n",
       "  </tbody>\n",
       "</table>\n",
       "</div>"
      ],
      "text/plain": [
       "      Age  Sex    BMI  Children  Smoker  Region     Charges\n",
       "116    58    1  49.06         0       0       0  11381.3254\n",
       "847    23    1  50.38         1       0       0   2438.0552\n",
       "1047   22    1  52.58         1       1       0  44501.3982\n",
       "1317   18    1  53.13         0       0       0   1163.4627"
      ]
     },
     "execution_count": 30,
     "metadata": {},
     "output_type": "execute_result"
    }
   ],
   "source": [
    "insurance_cost1.loc[insurance_cost['BMI'] > upper_limit]"
   ]
  },
  {
   "cell_type": "code",
   "execution_count": 31,
   "id": "f0a4c668",
   "metadata": {},
   "outputs": [
    {
     "data": {
      "text/html": [
       "<div>\n",
       "<style scoped>\n",
       "    .dataframe tbody tr th:only-of-type {\n",
       "        vertical-align: middle;\n",
       "    }\n",
       "\n",
       "    .dataframe tbody tr th {\n",
       "        vertical-align: top;\n",
       "    }\n",
       "\n",
       "    .dataframe thead th {\n",
       "        text-align: right;\n",
       "    }\n",
       "</style>\n",
       "<table border=\"1\" class=\"dataframe\">\n",
       "  <thead>\n",
       "    <tr style=\"text-align: right;\">\n",
       "      <th></th>\n",
       "      <th>Age</th>\n",
       "      <th>Sex</th>\n",
       "      <th>BMI</th>\n",
       "      <th>Children</th>\n",
       "      <th>Smoker</th>\n",
       "      <th>Region</th>\n",
       "      <th>Charges</th>\n",
       "    </tr>\n",
       "  </thead>\n",
       "  <tbody>\n",
       "  </tbody>\n",
       "</table>\n",
       "</div>"
      ],
      "text/plain": [
       "Empty DataFrame\n",
       "Columns: [Age, Sex, BMI, Children, Smoker, Region, Charges]\n",
       "Index: []"
      ]
     },
     "execution_count": 31,
     "metadata": {},
     "output_type": "execute_result"
    }
   ],
   "source": [
    "insurance_cost1.loc[insurance_cost['BMI'] < lower_limit]"
   ]
  },
  {
   "cell_type": "code",
   "execution_count": 32,
   "id": "f99cbdb8",
   "metadata": {},
   "outputs": [
    {
     "name": "stdout",
     "output_type": "stream",
     "text": [
      "0.055610083072599126 Age\n",
      "0.28372857291709386 BMI\n"
     ]
    }
   ],
   "source": [
    "## Skweness and Kurtosis test i.e check for normality\n",
    "from scipy import stats\n",
    "for column in Box:\n",
    "    print(stats.skew(Box[column]),column)"
   ]
  },
  {
   "cell_type": "code",
   "execution_count": 33,
   "id": "261e080f",
   "metadata": {},
   "outputs": [
    {
     "name": "stdout",
     "output_type": "stream",
     "text": [
      "-1.2449206804584227 Age\n",
      "-0.05502310583700032 BMI\n"
     ]
    }
   ],
   "source": [
    "for column in Box:\n",
    "    print(stats.kurtosis(Box[column]),column)"
   ]
  },
  {
   "cell_type": "code",
   "execution_count": 34,
   "id": "37567cbf",
   "metadata": {},
   "outputs": [],
   "source": [
    "## Scaling the data.As we will implement linear regression so we need to make all numerical features into same sacle.\n",
    "## From the EDA stage we have found all numericla variables are normally distributed so we can apply \n",
    "## Standard scaler."
   ]
  },
  {
   "cell_type": "code",
   "execution_count": 35,
   "id": "bb1318d8",
   "metadata": {},
   "outputs": [],
   "source": [
    "from sklearn.preprocessing import StandardScaler\n",
    "sc=StandardScaler() ## object creation\n",
    "insurance_cost1[['Age', 'BMI',]]= sc.fit_transform(insurance_cost1[['Age', 'BMI']])"
   ]
  },
  {
   "cell_type": "code",
   "execution_count": 36,
   "id": "8817d9ad",
   "metadata": {},
   "outputs": [
    {
     "data": {
      "text/html": [
       "<div>\n",
       "<style scoped>\n",
       "    .dataframe tbody tr th:only-of-type {\n",
       "        vertical-align: middle;\n",
       "    }\n",
       "\n",
       "    .dataframe tbody tr th {\n",
       "        vertical-align: top;\n",
       "    }\n",
       "\n",
       "    .dataframe thead th {\n",
       "        text-align: right;\n",
       "    }\n",
       "</style>\n",
       "<table border=\"1\" class=\"dataframe\">\n",
       "  <thead>\n",
       "    <tr style=\"text-align: right;\">\n",
       "      <th></th>\n",
       "      <th>Age</th>\n",
       "      <th>Sex</th>\n",
       "      <th>BMI</th>\n",
       "      <th>Children</th>\n",
       "      <th>Smoker</th>\n",
       "      <th>Region</th>\n",
       "      <th>Charges</th>\n",
       "    </tr>\n",
       "  </thead>\n",
       "  <tbody>\n",
       "    <tr>\n",
       "      <th>0</th>\n",
       "      <td>-1.438764</td>\n",
       "      <td>0</td>\n",
       "      <td>-0.453320</td>\n",
       "      <td>0</td>\n",
       "      <td>1</td>\n",
       "      <td>1</td>\n",
       "      <td>16884.92400</td>\n",
       "    </tr>\n",
       "    <tr>\n",
       "      <th>1</th>\n",
       "      <td>-1.509965</td>\n",
       "      <td>1</td>\n",
       "      <td>0.509621</td>\n",
       "      <td>1</td>\n",
       "      <td>0</td>\n",
       "      <td>0</td>\n",
       "      <td>1725.55230</td>\n",
       "    </tr>\n",
       "    <tr>\n",
       "      <th>2</th>\n",
       "      <td>-0.797954</td>\n",
       "      <td>1</td>\n",
       "      <td>0.383307</td>\n",
       "      <td>3</td>\n",
       "      <td>0</td>\n",
       "      <td>0</td>\n",
       "      <td>4449.46200</td>\n",
       "    </tr>\n",
       "    <tr>\n",
       "      <th>3</th>\n",
       "      <td>-0.441948</td>\n",
       "      <td>1</td>\n",
       "      <td>-1.305531</td>\n",
       "      <td>0</td>\n",
       "      <td>0</td>\n",
       "      <td>3</td>\n",
       "      <td>21984.47061</td>\n",
       "    </tr>\n",
       "    <tr>\n",
       "      <th>4</th>\n",
       "      <td>-0.513149</td>\n",
       "      <td>1</td>\n",
       "      <td>-0.292556</td>\n",
       "      <td>0</td>\n",
       "      <td>0</td>\n",
       "      <td>3</td>\n",
       "      <td>3866.85520</td>\n",
       "    </tr>\n",
       "    <tr>\n",
       "      <th>...</th>\n",
       "      <td>...</td>\n",
       "      <td>...</td>\n",
       "      <td>...</td>\n",
       "      <td>...</td>\n",
       "      <td>...</td>\n",
       "      <td>...</td>\n",
       "      <td>...</td>\n",
       "    </tr>\n",
       "    <tr>\n",
       "      <th>1333</th>\n",
       "      <td>0.768473</td>\n",
       "      <td>1</td>\n",
       "      <td>0.050297</td>\n",
       "      <td>3</td>\n",
       "      <td>0</td>\n",
       "      <td>3</td>\n",
       "      <td>10600.54830</td>\n",
       "    </tr>\n",
       "    <tr>\n",
       "      <th>1334</th>\n",
       "      <td>-1.509965</td>\n",
       "      <td>0</td>\n",
       "      <td>0.206139</td>\n",
       "      <td>0</td>\n",
       "      <td>0</td>\n",
       "      <td>2</td>\n",
       "      <td>2205.98080</td>\n",
       "    </tr>\n",
       "    <tr>\n",
       "      <th>1335</th>\n",
       "      <td>-1.509965</td>\n",
       "      <td>0</td>\n",
       "      <td>1.014878</td>\n",
       "      <td>0</td>\n",
       "      <td>0</td>\n",
       "      <td>0</td>\n",
       "      <td>1629.83350</td>\n",
       "    </tr>\n",
       "    <tr>\n",
       "      <th>1336</th>\n",
       "      <td>-1.296362</td>\n",
       "      <td>0</td>\n",
       "      <td>-0.797813</td>\n",
       "      <td>0</td>\n",
       "      <td>0</td>\n",
       "      <td>1</td>\n",
       "      <td>2007.94500</td>\n",
       "    </tr>\n",
       "    <tr>\n",
       "      <th>1337</th>\n",
       "      <td>1.551686</td>\n",
       "      <td>0</td>\n",
       "      <td>-0.261388</td>\n",
       "      <td>0</td>\n",
       "      <td>1</td>\n",
       "      <td>3</td>\n",
       "      <td>29141.36030</td>\n",
       "    </tr>\n",
       "  </tbody>\n",
       "</table>\n",
       "<p>1338 rows × 7 columns</p>\n",
       "</div>"
      ],
      "text/plain": [
       "           Age  Sex       BMI  Children  Smoker  Region      Charges\n",
       "0    -1.438764    0 -0.453320         0       1       1  16884.92400\n",
       "1    -1.509965    1  0.509621         1       0       0   1725.55230\n",
       "2    -0.797954    1  0.383307         3       0       0   4449.46200\n",
       "3    -0.441948    1 -1.305531         0       0       3  21984.47061\n",
       "4    -0.513149    1 -0.292556         0       0       3   3866.85520\n",
       "...        ...  ...       ...       ...     ...     ...          ...\n",
       "1333  0.768473    1  0.050297         3       0       3  10600.54830\n",
       "1334 -1.509965    0  0.206139         0       0       2   2205.98080\n",
       "1335 -1.509965    0  1.014878         0       0       0   1629.83350\n",
       "1336 -1.296362    0 -0.797813         0       0       1   2007.94500\n",
       "1337  1.551686    0 -0.261388         0       1       3  29141.36030\n",
       "\n",
       "[1338 rows x 7 columns]"
      ]
     },
     "execution_count": 36,
     "metadata": {},
     "output_type": "execute_result"
    }
   ],
   "source": [
    "insurance_cost1"
   ]
  },
  {
   "cell_type": "code",
   "execution_count": 37,
   "id": "06da3ee7",
   "metadata": {},
   "outputs": [
    {
     "data": {
      "text/html": [
       "<div>\n",
       "<style scoped>\n",
       "    .dataframe tbody tr th:only-of-type {\n",
       "        vertical-align: middle;\n",
       "    }\n",
       "\n",
       "    .dataframe tbody tr th {\n",
       "        vertical-align: top;\n",
       "    }\n",
       "\n",
       "    .dataframe thead th {\n",
       "        text-align: right;\n",
       "    }\n",
       "</style>\n",
       "<table border=\"1\" class=\"dataframe\">\n",
       "  <thead>\n",
       "    <tr style=\"text-align: right;\">\n",
       "      <th></th>\n",
       "      <th>Age</th>\n",
       "      <th>Sex</th>\n",
       "      <th>BMI</th>\n",
       "      <th>Children</th>\n",
       "      <th>Smoker</th>\n",
       "      <th>Region</th>\n",
       "      <th>Charges</th>\n",
       "    </tr>\n",
       "  </thead>\n",
       "  <tbody>\n",
       "    <tr>\n",
       "      <th>0</th>\n",
       "      <td>-1.438764</td>\n",
       "      <td>0</td>\n",
       "      <td>-0.453320</td>\n",
       "      <td>0</td>\n",
       "      <td>1</td>\n",
       "      <td>1</td>\n",
       "      <td>16884.92400</td>\n",
       "    </tr>\n",
       "    <tr>\n",
       "      <th>1</th>\n",
       "      <td>-1.509965</td>\n",
       "      <td>1</td>\n",
       "      <td>0.509621</td>\n",
       "      <td>1</td>\n",
       "      <td>0</td>\n",
       "      <td>0</td>\n",
       "      <td>1725.55230</td>\n",
       "    </tr>\n",
       "    <tr>\n",
       "      <th>2</th>\n",
       "      <td>-0.797954</td>\n",
       "      <td>1</td>\n",
       "      <td>0.383307</td>\n",
       "      <td>3</td>\n",
       "      <td>0</td>\n",
       "      <td>0</td>\n",
       "      <td>4449.46200</td>\n",
       "    </tr>\n",
       "    <tr>\n",
       "      <th>3</th>\n",
       "      <td>-0.441948</td>\n",
       "      <td>1</td>\n",
       "      <td>-1.305531</td>\n",
       "      <td>0</td>\n",
       "      <td>0</td>\n",
       "      <td>3</td>\n",
       "      <td>21984.47061</td>\n",
       "    </tr>\n",
       "    <tr>\n",
       "      <th>4</th>\n",
       "      <td>-0.513149</td>\n",
       "      <td>1</td>\n",
       "      <td>-0.292556</td>\n",
       "      <td>0</td>\n",
       "      <td>0</td>\n",
       "      <td>3</td>\n",
       "      <td>3866.85520</td>\n",
       "    </tr>\n",
       "    <tr>\n",
       "      <th>...</th>\n",
       "      <td>...</td>\n",
       "      <td>...</td>\n",
       "      <td>...</td>\n",
       "      <td>...</td>\n",
       "      <td>...</td>\n",
       "      <td>...</td>\n",
       "      <td>...</td>\n",
       "    </tr>\n",
       "    <tr>\n",
       "      <th>1333</th>\n",
       "      <td>0.768473</td>\n",
       "      <td>1</td>\n",
       "      <td>0.050297</td>\n",
       "      <td>3</td>\n",
       "      <td>0</td>\n",
       "      <td>3</td>\n",
       "      <td>10600.54830</td>\n",
       "    </tr>\n",
       "    <tr>\n",
       "      <th>1334</th>\n",
       "      <td>-1.509965</td>\n",
       "      <td>0</td>\n",
       "      <td>0.206139</td>\n",
       "      <td>0</td>\n",
       "      <td>0</td>\n",
       "      <td>2</td>\n",
       "      <td>2205.98080</td>\n",
       "    </tr>\n",
       "    <tr>\n",
       "      <th>1335</th>\n",
       "      <td>-1.509965</td>\n",
       "      <td>0</td>\n",
       "      <td>1.014878</td>\n",
       "      <td>0</td>\n",
       "      <td>0</td>\n",
       "      <td>0</td>\n",
       "      <td>1629.83350</td>\n",
       "    </tr>\n",
       "    <tr>\n",
       "      <th>1336</th>\n",
       "      <td>-1.296362</td>\n",
       "      <td>0</td>\n",
       "      <td>-0.797813</td>\n",
       "      <td>0</td>\n",
       "      <td>0</td>\n",
       "      <td>1</td>\n",
       "      <td>2007.94500</td>\n",
       "    </tr>\n",
       "    <tr>\n",
       "      <th>1337</th>\n",
       "      <td>1.551686</td>\n",
       "      <td>0</td>\n",
       "      <td>-0.261388</td>\n",
       "      <td>0</td>\n",
       "      <td>1</td>\n",
       "      <td>3</td>\n",
       "      <td>29141.36030</td>\n",
       "    </tr>\n",
       "  </tbody>\n",
       "</table>\n",
       "<p>1338 rows × 7 columns</p>\n",
       "</div>"
      ],
      "text/plain": [
       "           Age  Sex       BMI  Children  Smoker  Region      Charges\n",
       "0    -1.438764    0 -0.453320         0       1       1  16884.92400\n",
       "1    -1.509965    1  0.509621         1       0       0   1725.55230\n",
       "2    -0.797954    1  0.383307         3       0       0   4449.46200\n",
       "3    -0.441948    1 -1.305531         0       0       3  21984.47061\n",
       "4    -0.513149    1 -0.292556         0       0       3   3866.85520\n",
       "...        ...  ...       ...       ...     ...     ...          ...\n",
       "1333  0.768473    1  0.050297         3       0       3  10600.54830\n",
       "1334 -1.509965    0  0.206139         0       0       2   2205.98080\n",
       "1335 -1.509965    0  1.014878         0       0       0   1629.83350\n",
       "1336 -1.296362    0 -0.797813         0       0       1   2007.94500\n",
       "1337  1.551686    0 -0.261388         0       1       3  29141.36030\n",
       "\n",
       "[1338 rows x 7 columns]"
      ]
     },
     "execution_count": 37,
     "metadata": {},
     "output_type": "execute_result"
    }
   ],
   "source": [
    "insurance_cost1"
   ]
  },
  {
   "cell_type": "markdown",
   "id": "6cc86a78",
   "metadata": {},
   "source": [
    "# Feature Selection"
   ]
  },
  {
   "cell_type": "code",
   "execution_count": 38,
   "id": "f38f0265",
   "metadata": {},
   "outputs": [],
   "source": [
    "## Feature selection is done to get that specific features which are important to predict the \n",
    "## the target varaible.\n",
    "\n",
    "## First remove the redundant colunms i.e serial no,customer id,ids\n",
    "## In second step remove constant columns,the columns not providing information.\n",
    "## i.e standard deviation=0"
   ]
  },
  {
   "cell_type": "code",
   "execution_count": 39,
   "id": "78664fb9",
   "metadata": {},
   "outputs": [
    {
     "data": {
      "text/html": [
       "<div>\n",
       "<style scoped>\n",
       "    .dataframe tbody tr th:only-of-type {\n",
       "        vertical-align: middle;\n",
       "    }\n",
       "\n",
       "    .dataframe tbody tr th {\n",
       "        vertical-align: top;\n",
       "    }\n",
       "\n",
       "    .dataframe thead th {\n",
       "        text-align: right;\n",
       "    }\n",
       "</style>\n",
       "<table border=\"1\" class=\"dataframe\">\n",
       "  <thead>\n",
       "    <tr style=\"text-align: right;\">\n",
       "      <th></th>\n",
       "      <th>Age</th>\n",
       "      <th>Sex</th>\n",
       "      <th>BMI</th>\n",
       "      <th>Children</th>\n",
       "      <th>Smoker</th>\n",
       "      <th>Region</th>\n",
       "      <th>Charges</th>\n",
       "    </tr>\n",
       "  </thead>\n",
       "  <tbody>\n",
       "    <tr>\n",
       "      <th>0</th>\n",
       "      <td>-1.438764</td>\n",
       "      <td>0</td>\n",
       "      <td>-0.453320</td>\n",
       "      <td>0</td>\n",
       "      <td>1</td>\n",
       "      <td>1</td>\n",
       "      <td>16884.92400</td>\n",
       "    </tr>\n",
       "    <tr>\n",
       "      <th>1</th>\n",
       "      <td>-1.509965</td>\n",
       "      <td>1</td>\n",
       "      <td>0.509621</td>\n",
       "      <td>1</td>\n",
       "      <td>0</td>\n",
       "      <td>0</td>\n",
       "      <td>1725.55230</td>\n",
       "    </tr>\n",
       "    <tr>\n",
       "      <th>2</th>\n",
       "      <td>-0.797954</td>\n",
       "      <td>1</td>\n",
       "      <td>0.383307</td>\n",
       "      <td>3</td>\n",
       "      <td>0</td>\n",
       "      <td>0</td>\n",
       "      <td>4449.46200</td>\n",
       "    </tr>\n",
       "    <tr>\n",
       "      <th>3</th>\n",
       "      <td>-0.441948</td>\n",
       "      <td>1</td>\n",
       "      <td>-1.305531</td>\n",
       "      <td>0</td>\n",
       "      <td>0</td>\n",
       "      <td>3</td>\n",
       "      <td>21984.47061</td>\n",
       "    </tr>\n",
       "    <tr>\n",
       "      <th>4</th>\n",
       "      <td>-0.513149</td>\n",
       "      <td>1</td>\n",
       "      <td>-0.292556</td>\n",
       "      <td>0</td>\n",
       "      <td>0</td>\n",
       "      <td>3</td>\n",
       "      <td>3866.85520</td>\n",
       "    </tr>\n",
       "  </tbody>\n",
       "</table>\n",
       "</div>"
      ],
      "text/plain": [
       "        Age  Sex       BMI  Children  Smoker  Region      Charges\n",
       "0 -1.438764    0 -0.453320         0       1       1  16884.92400\n",
       "1 -1.509965    1  0.509621         1       0       0   1725.55230\n",
       "2 -0.797954    1  0.383307         3       0       0   4449.46200\n",
       "3 -0.441948    1 -1.305531         0       0       3  21984.47061\n",
       "4 -0.513149    1 -0.292556         0       0       3   3866.85520"
      ]
     },
     "execution_count": 39,
     "metadata": {},
     "output_type": "execute_result"
    }
   ],
   "source": [
    "insurance_cost1.head()"
   ]
  },
  {
   "cell_type": "code",
   "execution_count": 40,
   "id": "a2b2fe13",
   "metadata": {},
   "outputs": [
    {
     "data": {
      "text/plain": [
       "<AxesSubplot:>"
      ]
     },
     "execution_count": 40,
     "metadata": {},
     "output_type": "execute_result"
    },
    {
     "data": {
      "image/png": "[encoded data removed]",
      "text/plain": [
       "<Figure size 432x288 with 2 Axes>"
      ]
     },
     "metadata": {
      "needs_background": "light"
     },
     "output_type": "display_data"
    }
   ],
   "source": [
    "#Checking correlation i.e checking the linear relation between 2 variables.\n",
    "sns.heatmap(insurance_cost1.drop('Charges',axis=1).corr(),annot=True)"
   ]
  },
  {
   "cell_type": "code",
   "execution_count": 41,
   "id": "0f16f5cc",
   "metadata": {},
   "outputs": [],
   "source": [
    "## There seems to be relationship between Age and Sex,Smoker however the relationship is not that strong.So we will not drop \n",
    "## further any features"
   ]
  },
  {
   "cell_type": "markdown",
   "id": "18849733",
   "metadata": {},
   "source": [
    "# Model Building"
   ]
  },
  {
   "cell_type": "code",
   "execution_count": 42,
   "id": "e259f800",
   "metadata": {},
   "outputs": [],
   "source": [
    "## Defining independent and dependent variables\n",
    "X=insurance_cost1.drop(columns='Charges',axis=1)\n",
    "y=insurance_cost1['Charges']"
   ]
  },
  {
   "cell_type": "code",
   "execution_count": 43,
   "id": "38ccb583",
   "metadata": {},
   "outputs": [
    {
     "data": {
      "text/html": [
       "<div>\n",
       "<style scoped>\n",
       "    .dataframe tbody tr th:only-of-type {\n",
       "        vertical-align: middle;\n",
       "    }\n",
       "\n",
       "    .dataframe tbody tr th {\n",
       "        vertical-align: top;\n",
       "    }\n",
       "\n",
       "    .dataframe thead th {\n",
       "        text-align: right;\n",
       "    }\n",
       "</style>\n",
       "<table border=\"1\" class=\"dataframe\">\n",
       "  <thead>\n",
       "    <tr style=\"text-align: right;\">\n",
       "      <th></th>\n",
       "      <th>Age</th>\n",
       "      <th>Sex</th>\n",
       "      <th>BMI</th>\n",
       "      <th>Children</th>\n",
       "      <th>Smoker</th>\n",
       "      <th>Region</th>\n",
       "      <th>Charges</th>\n",
       "    </tr>\n",
       "  </thead>\n",
       "  <tbody>\n",
       "    <tr>\n",
       "      <th>0</th>\n",
       "      <td>-1.438764</td>\n",
       "      <td>0</td>\n",
       "      <td>-0.453320</td>\n",
       "      <td>0</td>\n",
       "      <td>1</td>\n",
       "      <td>1</td>\n",
       "      <td>16884.92400</td>\n",
       "    </tr>\n",
       "    <tr>\n",
       "      <th>1</th>\n",
       "      <td>-1.509965</td>\n",
       "      <td>1</td>\n",
       "      <td>0.509621</td>\n",
       "      <td>1</td>\n",
       "      <td>0</td>\n",
       "      <td>0</td>\n",
       "      <td>1725.55230</td>\n",
       "    </tr>\n",
       "    <tr>\n",
       "      <th>2</th>\n",
       "      <td>-0.797954</td>\n",
       "      <td>1</td>\n",
       "      <td>0.383307</td>\n",
       "      <td>3</td>\n",
       "      <td>0</td>\n",
       "      <td>0</td>\n",
       "      <td>4449.46200</td>\n",
       "    </tr>\n",
       "    <tr>\n",
       "      <th>3</th>\n",
       "      <td>-0.441948</td>\n",
       "      <td>1</td>\n",
       "      <td>-1.305531</td>\n",
       "      <td>0</td>\n",
       "      <td>0</td>\n",
       "      <td>3</td>\n",
       "      <td>21984.47061</td>\n",
       "    </tr>\n",
       "    <tr>\n",
       "      <th>4</th>\n",
       "      <td>-0.513149</td>\n",
       "      <td>1</td>\n",
       "      <td>-0.292556</td>\n",
       "      <td>0</td>\n",
       "      <td>0</td>\n",
       "      <td>3</td>\n",
       "      <td>3866.85520</td>\n",
       "    </tr>\n",
       "  </tbody>\n",
       "</table>\n",
       "</div>"
      ],
      "text/plain": [
       "        Age  Sex       BMI  Children  Smoker  Region      Charges\n",
       "0 -1.438764    0 -0.453320         0       1       1  16884.92400\n",
       "1 -1.509965    1  0.509621         1       0       0   1725.55230\n",
       "2 -0.797954    1  0.383307         3       0       0   4449.46200\n",
       "3 -0.441948    1 -1.305531         0       0       3  21984.47061\n",
       "4 -0.513149    1 -0.292556         0       0       3   3866.85520"
      ]
     },
     "execution_count": 43,
     "metadata": {},
     "output_type": "execute_result"
    }
   ],
   "source": [
    "insurance_cost1.head()"
   ]
  },
  {
   "cell_type": "code",
   "execution_count": 44,
   "id": "23995f58",
   "metadata": {},
   "outputs": [
    {
     "name": "stdout",
     "output_type": "stream",
     "text": [
      "0       16884.92400\n",
      "1        1725.55230\n",
      "2        4449.46200\n",
      "3       21984.47061\n",
      "4        3866.85520\n",
      "           ...     \n",
      "1333    10600.54830\n",
      "1334     2205.98080\n",
      "1335     1629.83350\n",
      "1336     2007.94500\n",
      "1337    29141.36030\n",
      "Name: Charges, Length: 1338, dtype: float64\n"
     ]
    }
   ],
   "source": [
    "print(y)"
   ]
  },
  {
   "cell_type": "markdown",
   "id": "cf260112",
   "metadata": {
    "papermill": {
     "duration": 0.035535,
     "end_time": "2021-10-31T15:16:43.731910",
     "exception": false,
     "start_time": "2021-10-31T15:16:43.696375",
     "status": "completed"
    },
    "tags": []
   },
   "source": [
    "### 9. Train/Test split\n",
    "#### 1. Split data into two part : a training set and a testing set\n",
    "#### 2. Train the model(s) on training set\n",
    "#### 3. Test the Model(s) on Testing set"
   ]
  },
  {
   "cell_type": "code",
   "execution_count": 45,
   "id": "3fec7577",
   "metadata": {},
   "outputs": [],
   "source": [
    "## Defining training and testing data, on training data, model will be created.Now to evaluate the \n",
    "## model,testing data is required.However on production you will have unseen data\n",
    "from sklearn.model_selection import train_test_split\n",
    "X_train,X_test,y_train,y_test=train_test_split(X,y,test_size=0.20,random_state=2)\n"
   ]
  },
  {
   "cell_type": "markdown",
   "id": "9eb3aef5",
   "metadata": {},
   "source": [
    "# Linear Regression"
   ]
  },
  {
   "cell_type": "markdown",
   "id": "ad8c91a8",
   "metadata": {
    "papermill": {
     "duration": 0.034701,
     "end_time": "2021-10-31T15:16:44.911111",
     "exception": false,
     "start_time": "2021-10-31T15:16:44.876410",
     "status": "completed"
    },
    "tags": []
   },
   "source": [
    "###  Import the models"
   ]
  },
  {
   "cell_type": "code",
   "execution_count": 88,
   "id": "863c7c27",
   "metadata": {},
   "outputs": [],
   "source": [
    "from sklearn.linear_model import LinearRegression ## importing the model library \n"
   ]
  },
  {
   "cell_type": "markdown",
   "id": "0b116dd2",
   "metadata": {
    "papermill": {
     "duration": 0.034928,
     "end_time": "2021-10-31T15:16:45.406776",
     "exception": false,
     "start_time": "2021-10-31T15:16:45.371848",
     "status": "completed"
    },
    "tags": []
   },
   "source": [
    "###  Model Training"
   ]
  },
  {
   "cell_type": "code",
   "execution_count": 89,
   "id": "f85ef5e5",
   "metadata": {},
   "outputs": [],
   "source": [
    "## Model creation\n",
    "\n",
    "LR=LinearRegression() ## creating the model object \n",
    "LR.fit(X_train,y_train) ## fitting the training data.\n",
    "\n",
    "y_hat=LR.predict(X_test) ## prediciton from model"
   ]
  },
  {
   "cell_type": "code",
   "execution_count": 90,
   "id": "65f3290a",
   "metadata": {},
   "outputs": [],
   "source": [
    "y_h=LR.predict(X_train)"
   ]
  },
  {
   "cell_type": "markdown",
   "id": "a85c623d",
   "metadata": {},
   "source": [
    "### Model Evaluation"
   ]
  },
  {
   "cell_type": "code",
   "execution_count": 49,
   "id": "472fd0ac",
   "metadata": {},
   "outputs": [
    {
     "data": {
      "text/plain": [
       "0.751505643411174"
      ]
     },
     "execution_count": 49,
     "metadata": {},
     "output_type": "execute_result"
    }
   ],
   "source": [
    "from sklearn.metrics import r2_score, mean_squared_error, mean_absolute_error\n",
    "\n",
    "##prediciton on training data\n",
    "y_train_predict=LR.predict(X_train)\n",
    "\n",
    "\n",
    "train_score=r2_score(y_train,y_h)\n",
    "train_score"
   ]
  },
  {
   "cell_type": "code",
   "execution_count": 50,
   "id": "30f2d71b",
   "metadata": {},
   "outputs": [
    {
     "data": {
      "text/plain": [
       "0.7447273869684077"
      ]
     },
     "execution_count": 50,
     "metadata": {},
     "output_type": "execute_result"
    }
   ],
   "source": [
    "test_score=r2_score(y_test,y_hat)\n",
    "test_score"
   ]
  },
  {
   "cell_type": "code",
   "execution_count": 51,
   "id": "1f35e87d",
   "metadata": {},
   "outputs": [
    {
     "name": "stdout",
     "output_type": "stream",
     "text": [
      "MSE:  38337035.48643883\n",
      "MAE:  4267.213826730732\n"
     ]
    }
   ],
   "source": [
    "# Mean Squared Error & Mean Absolute Error\n",
    "print(\"MSE: \", mean_squared_error(y_test, y_hat))\n",
    "print(\"MAE: \", mean_absolute_error(y_test, y_hat))"
   ]
  },
  {
   "cell_type": "code",
   "execution_count": 52,
   "id": "6f0e0d9c",
   "metadata": {},
   "outputs": [
    {
     "name": "stdout",
     "output_type": "stream",
     "text": [
      "6191.690842285234\n"
     ]
    }
   ],
   "source": [
    "# RMSE\n",
    "import math\n",
    "print(math.sqrt(mean_squared_error(y_test,y_hat))) # root mean squared error"
   ]
  },
  {
   "cell_type": "code",
   "execution_count": 53,
   "id": "5cd8e3f8",
   "metadata": {},
   "outputs": [
    {
     "data": {
      "text/plain": [
       "((1070, 6), (268, 6))"
      ]
     },
     "execution_count": 53,
     "metadata": {},
     "output_type": "execute_result"
    }
   ],
   "source": [
    "X_train.shape,X_test.shape"
   ]
  },
  {
   "cell_type": "code",
   "execution_count": 54,
   "id": "9e9ebfec",
   "metadata": {},
   "outputs": [
    {
     "data": {
      "text/plain": [
       "0.7482412060301508"
      ]
     },
     "execution_count": 54,
     "metadata": {},
     "output_type": "execute_result"
    }
   ],
   "source": [
    "## CHecking adjusted r2 score\n",
    "train_adjusted_r2 = 1-(1-.75)*(1003-1)/(1003-7-1)\n",
    "train_adjusted_r2"
   ]
  },
  {
   "cell_type": "code",
   "execution_count": 55,
   "id": "0a70f330",
   "metadata": {},
   "outputs": [
    {
     "data": {
      "text/plain": [
       "0.7344342507645261"
      ]
     },
     "execution_count": 55,
     "metadata": {},
     "output_type": "execute_result"
    }
   ],
   "source": [
    "test_adjusted_r2= 1-(1-.74)*(335-1)/(335-7-1)\n",
    "test_adjusted_r2"
   ]
  },
  {
   "cell_type": "code",
   "execution_count": 56,
   "id": "42e8e349",
   "metadata": {},
   "outputs": [
    {
     "name": "stdout",
     "output_type": "stream",
     "text": [
      "intercept: 7451.272108762826\n"
     ]
    }
   ],
   "source": [
    "print('intercept:', LR.intercept_) ## c value"
   ]
  },
  {
   "cell_type": "code",
   "execution_count": 57,
   "id": "c6e1362d",
   "metadata": {},
   "outputs": [
    {
     "name": "stdout",
     "output_type": "stream",
     "text": [
      "slope: [ 3530.91178882   -26.11715966  2015.58974311   580.27438296\n",
      " 23928.10171061   212.22242728]\n"
     ]
    }
   ],
   "source": [
    "print('slope:', LR.coef_) ## m0,m1,m2,m3,m4,m5"
   ]
  },
  {
   "cell_type": "markdown",
   "id": "420e8203",
   "metadata": {},
   "source": [
    "Assumptions of Linear Regression:\n",
    "- Linearity: Linear relationship exist between dependent and independent variable. In case of non-linearity, use transformation such as logarthmic, exponential, square root etc\n",
    "- No multicollinearity: If there is multicollinearity its unclear which independent variable explains the dependent variable.\n",
    "- Errors are normally distributed. If not, then confidence interval may become too wide or narrow.\n",
    "\n",
    "Pros:\n",
    "- Simple method\n",
    "- Easy to use and understand\n",
    "\n",
    "Cons\n",
    "- Very sensitive to outliers : often leads to model with low accuracy\n",
    "- It performs well for linearly seperable datasets. So not recommended for most real world applications as it produces simplified results assuming linear relationship between the data."
   ]
  },
  {
   "cell_type": "markdown",
   "id": "a0920dc8",
   "metadata": {},
   "source": [
    "# Random Forest"
   ]
  },
  {
   "cell_type": "markdown",
   "id": "1c85cd9a",
   "metadata": {},
   "source": [
    "### Import the models"
   ]
  },
  {
   "cell_type": "code",
   "execution_count": 81,
   "id": "6ed6e1d0",
   "metadata": {},
   "outputs": [],
   "source": [
    "from sklearn.ensemble import RandomForestRegressor\n"
   ]
  },
  {
   "cell_type": "markdown",
   "id": "7b82ed04",
   "metadata": {},
   "source": [
    "### Model Training"
   ]
  },
  {
   "cell_type": "code",
   "execution_count": 82,
   "id": "dee56b9d",
   "metadata": {},
   "outputs": [
    {
     "data": {
      "text/html": [
       "<style>#sk-container-id-2 {color: black;background-color: white;}#sk-container-id-2 pre{padding: 0;}#sk-container-id-2 div.sk-toggleable {background-color: white;}#sk-container-id-2 label.sk-toggleable__label {cursor: pointer;display: block;width: 100%;margin-bottom: 0;padding: 0.3em;box-sizing: border-box;text-align: center;}#sk-container-id-2 label.sk-toggleable__label-arrow:before {content: \"▸\";float: left;margin-right: 0.25em;color: #696969;}#sk-container-id-2 label.sk-toggleable__label-arrow:hover:before {color: black;}#sk-container-id-2 div.sk-estimator:hover label.sk-toggleable__label-arrow:before {color: black;}#sk-container-id-2 div.sk-toggleable__content {max-height: 0;max-width: 0;overflow: hidden;text-align: left;background-color: #f0f8ff;}#sk-container-id-2 div.sk-toggleable__content pre {margin: 0.2em;color: black;border-radius: 0.25em;background-color: #f0f8ff;}#sk-container-id-2 input.sk-toggleable__control:checked~div.sk-toggleable__content {max-height: 200px;max-width: 100%;overflow: auto;}#sk-container-id-2 input.sk-toggleable__control:checked~label.sk-toggleable__label-arrow:before {content: \"▾\";}#sk-container-id-2 div.sk-estimator input.sk-toggleable__control:checked~label.sk-toggleable__label {background-color: #d4ebff;}#sk-container-id-2 div.sk-label input.sk-toggleable__control:checked~label.sk-toggleable__label {background-color: #d4ebff;}#sk-container-id-2 input.sk-hidden--visually {border: 0;clip: rect(1px 1px 1px 1px);clip: rect(1px, 1px, 1px, 1px);height: 1px;margin: -1px;overflow: hidden;padding: 0;position: absolute;width: 1px;}#sk-container-id-2 div.sk-estimator {font-family: monospace;background-color: #f0f8ff;border: 1px dotted black;border-radius: 0.25em;box-sizing: border-box;margin-bottom: 0.5em;}#sk-container-id-2 div.sk-estimator:hover {background-color: #d4ebff;}#sk-container-id-2 div.sk-parallel-item::after {content: \"\";width: 100%;border-bottom: 1px solid gray;flex-grow: 1;}#sk-container-id-2 div.sk-label:hover label.sk-toggleable__label {background-color: #d4ebff;}#sk-container-id-2 div.sk-serial::before {content: \"\";position: absolute;border-left: 1px solid gray;box-sizing: border-box;top: 0;bottom: 0;left: 50%;z-index: 0;}#sk-container-id-2 div.sk-serial {display: flex;flex-direction: column;align-items: center;background-color: white;padding-right: 0.2em;padding-left: 0.2em;position: relative;}#sk-container-id-2 div.sk-item {position: relative;z-index: 1;}#sk-container-id-2 div.sk-parallel {display: flex;align-items: stretch;justify-content: center;background-color: white;position: relative;}#sk-container-id-2 div.sk-item::before, #sk-container-id-2 div.sk-parallel-item::before {content: \"\";position: absolute;border-left: 1px solid gray;box-sizing: border-box;top: 0;bottom: 0;left: 50%;z-index: -1;}#sk-container-id-2 div.sk-parallel-item {display: flex;flex-direction: column;z-index: 1;position: relative;background-color: white;}#sk-container-id-2 div.sk-parallel-item:first-child::after {align-self: flex-end;width: 50%;}#sk-container-id-2 div.sk-parallel-item:last-child::after {align-self: flex-start;width: 50%;}#sk-container-id-2 div.sk-parallel-item:only-child::after {width: 0;}#sk-container-id-2 div.sk-dashed-wrapped {border: 1px dashed gray;margin: 0 0.4em 0.5em 0.4em;box-sizing: border-box;padding-bottom: 0.4em;background-color: white;}#sk-container-id-2 div.sk-label label {font-family: monospace;font-weight: bold;display: inline-block;line-height: 1.2em;}#sk-container-id-2 div.sk-label-container {text-align: center;}#sk-container-id-2 div.sk-container {/* jupyter's `normalize.less` sets `[hidden] { display: none; }` but bootstrap.min.css set `[hidden] { display: none !important; }` so we also need the `!important` here to be able to override the default hidden behavior on the sphinx rendered scikit-learn.org. See: https://github.com/scikit-learn/scikit-learn/issues/21755 */display: inline-block !important;position: relative;}#sk-container-id-2 div.sk-text-repr-fallback {display: none;}</style><div id=\"sk-container-id-2\" class=\"sk-top-container\"><div class=\"sk-text-repr-fallback\"><pre>RandomForestRegressor()</pre><b>In a Jupyter environment, please rerun this cell to show the HTML representation or trust the notebook. <br />On GitHub, the HTML representation is unable to render, please try loading this page with nbviewer.org.</b></div><div class=\"sk-container\" hidden><div class=\"sk-item\"><div class=\"sk-estimator sk-toggleable\"><input class=\"sk-toggleable__control sk-hidden--visually\" id=\"sk-estimator-id-2\" type=\"checkbox\" checked><label for=\"sk-estimator-id-2\" class=\"sk-toggleable__label sk-toggleable__label-arrow\">RandomForestRegressor</label><div class=\"sk-toggleable__content\"><pre>RandomForestRegressor()</pre></div></div></div></div></div>"
      ],
      "text/plain": [
       "RandomForestRegressor()"
      ]
     },
     "execution_count": 82,
     "metadata": {},
     "output_type": "execute_result"
    }
   ],
   "source": [
    "rf = RandomForestRegressor()\n",
    "rf.fit(X_train,y_train)"
   ]
  },
  {
   "cell_type": "code",
   "execution_count": 83,
   "id": "6daf42f1",
   "metadata": {},
   "outputs": [],
   "source": [
    "y_pred3 = rf.predict(X_test)"
   ]
  },
  {
   "cell_type": "markdown",
   "id": "29910ab0",
   "metadata": {},
   "source": [
    "### Model Evaluation"
   ]
  },
  {
   "cell_type": "code",
   "execution_count": 84,
   "id": "06afa6bf",
   "metadata": {},
   "outputs": [],
   "source": [
    "from sklearn.metrics import r2_score\n",
    "score3 = metrics.r2_score(y_test,y_pred3)"
   ]
  },
  {
   "cell_type": "code",
   "execution_count": 85,
   "id": "f7ffde77",
   "metadata": {},
   "outputs": [
    {
     "name": "stdout",
     "output_type": "stream",
     "text": [
      "0.8326348476872487\n"
     ]
    }
   ],
   "source": [
    "print(score3)"
   ]
  },
  {
   "cell_type": "code",
   "execution_count": 86,
   "id": "b54232eb",
   "metadata": {},
   "outputs": [],
   "source": [
    "s3 = metrics.mean_absolute_error(y_test,y_pred3)"
   ]
  },
  {
   "cell_type": "code",
   "execution_count": 66,
   "id": "b4873d9e",
   "metadata": {},
   "outputs": [
    {
     "name": "stdout",
     "output_type": "stream",
     "text": [
      "2779.822965314478\n"
     ]
    }
   ],
   "source": [
    "print(s3)"
   ]
  },
  {
   "cell_type": "markdown",
   "id": "d3755703",
   "metadata": {},
   "source": [
    "# Hyper parameter Tuning in Random Forest"
   ]
  },
  {
   "cell_type": "markdown",
   "id": "ba4c5f4c",
   "metadata": {},
   "source": [
    "n_estimators = number of trees in the foreset\n",
    "\n",
    "max_features =These are the maximum number of features Random Forest is allowed to try in individual tree. There are multiple options available in Python to assign maximum features\n",
    "\n",
    "max_depth =The depth of each tree in the forest. The deeper the tree, the more splits it has and it captures more information about the data\n",
    "\n",
    "min_samples_split =the minimum number of samples required to split an internal node. This can vary between considering at least one sample at each node to considering all of the samples at each node\n",
    "\n",
    "min_samples_leaf = minimum number of data points allowed in a leaf node\n",
    "\n",
    "bootstrap = method for sampling data points (with or without replacement)\n",
    "\n",
    "Choose following method for hyperparameter tuning RandomizedSearchCV Fast\n",
    "\n",
    "GridSearchCV\n",
    "\n",
    "Assign hyperparameters in form of dictionery\n",
    "\n",
    "Fit the model\n",
    "\n",
    "Check best paramters and best scor"
   ]
  },
  {
   "cell_type": "code",
   "execution_count": 68,
   "id": "bf92ce38",
   "metadata": {},
   "outputs": [
    {
     "name": "stdout",
     "output_type": "stream",
     "text": [
      "Fitting 3 folds for each of 100 candidates, totalling 300 fits\n",
      "Best paramters: {'n_estimators': 1200, 'min_samples_split': 10, 'min_samples_leaf': 1, 'max_features': 'sqrt', 'max_depth': 20, 'bootstrap': False})\n"
     ]
    }
   ],
   "source": [
    "#Random Search sets up a grid of hyperparameter values and selects random combinations to train the model and score.\n",
    "#This allows you to explicitly control the number of parameter combinations that are attempted.\n",
    "#The number of search iterations is set based on time or resources.\n",
    "from sklearn.model_selection import RandomizedSearchCV\n",
    "\n",
    "n_estimators = [int(X) for X in np.linspace(start=200, stop=2000, num=10)]       #Number of decision trees\n",
    "max_features = ['log2', 'sqrt']                                  #maximum number of features allowed to try in individual tree\n",
    "max_depth = [int(X) for X in np.linspace(10, 110, num=11)]      #List Comprehension-using for loop in list\n",
    "max_depth.append(None)\n",
    "min_samples_split = [2, 5, 10]#minimum number of samples required to split an internal node\n",
    "min_samples_leaf = [1, 2, 4]#minimum number of samples required to be at a leaf node.\n",
    "bootstrap = [True, False]#sampling \n",
    "\n",
    "#dictionary for hyperparameters\n",
    "random_grid = {'n_estimators': n_estimators, 'max_features': max_features,\n",
    "               'max_depth': max_depth, 'min_samples_split': min_samples_split,\n",
    "               'min_samples_leaf': min_samples_leaf, 'bootstrap': bootstrap}\n",
    "\n",
    "rf = RandomForestRegressor(random_state=2)#model\n",
    "\n",
    "rf_cv = RandomizedSearchCV(estimator=rf, scoring='r2',param_distributions=random_grid, n_iter=100, cv=3, \n",
    "                               verbose=2, random_state=2, n_jobs=-1)\n",
    "\n",
    "#estimator--number of decision tree\n",
    "#scoring--->performance matrix to check performance\n",
    "#param_distribution-->hyperparametes that we are going to provide \n",
    "#n_iter--->Number of combinations to try\n",
    "##cv------> number of folds\n",
    "#verbose=Controls the verbosity:the greater the number, the more detail you will get.\n",
    "#>1 : the computation time for each fold and parameter candidate is displayed;\n",
    "#>2 : the score is also displayed;\n",
    "#>3 : the fold and candidate parameter indexes are also displayed together with the starting time of the computation.\n",
    "#n_jobs----> if you specify n_jobs to -1, it will use all cores in CPU. If it is set to 1 or 2, it will use one or two cores only \n",
    "\n",
    "\n",
    "\n",
    "\n",
    "\n",
    "rf_cv.fit(X_train, y_train)                                  ##training data on randomsearch cv\n",
    "rf_best_params = rf_cv.best_params_                          ##it will give you best parameters \n",
    "print(f\"Best paramters: {rf_best_params})\")                  ##printing  best parameters\n",
    " \n"
   ]
  },
  {
   "cell_type": "code",
   "execution_count": 69,
   "id": "013397f9",
   "metadata": {},
   "outputs": [
    {
     "data": {
      "text/plain": [
       "0.8422406564889963"
      ]
     },
     "execution_count": 69,
     "metadata": {},
     "output_type": "execute_result"
    }
   ],
   "source": [
    "#passing best parameter to randomforest\n",
    "rf_2 = RandomForestRegressor(n_estimators= 400, min_samples_split= 5, min_samples_leaf= 1, \n",
    "                                 max_features= 'log2', max_depth= 90, bootstrap= False)\n",
    "\n",
    "\n",
    "\n",
    "rf_2.fit(X_train, y_train)\n",
    "\n",
    "y_predict=rf_2.predict(X_test)\n",
    "\n",
    "r2_score(y_test,y_predict)"
   ]
  },
  {
   "cell_type": "markdown",
   "id": "3107e999",
   "metadata": {},
   "source": [
    "# Gradient Boosting"
   ]
  },
  {
   "cell_type": "markdown",
   "id": "90353bdd",
   "metadata": {},
   "source": [
    "### Import the models"
   ]
  },
  {
   "cell_type": "code",
   "execution_count": 70,
   "id": "ec733e58",
   "metadata": {},
   "outputs": [],
   "source": [
    "## importing the model library\n",
    "from sklearn.ensemble import GradientBoostingRegressor\n"
   ]
  },
  {
   "cell_type": "markdown",
   "id": "b29bd6dd",
   "metadata": {},
   "source": [
    "### Model Training"
   ]
  },
  {
   "cell_type": "code",
   "execution_count": null,
   "id": "47cb480f",
   "metadata": {},
   "outputs": [],
   "source": [
    "gbm=GradientBoostingRegressor() ## object creation\n",
    "gbm.fit(X_train,y_train) ## fitting the data\n",
    "y_gbm=gbm.predict(X_test)#predicting the price"
   ]
  },
  {
   "cell_type": "markdown",
   "id": "bd79ac8e",
   "metadata": {},
   "source": [
    "### Model Evaluation"
   ]
  },
  {
   "cell_type": "code",
   "execution_count": 71,
   "id": "b86ec441",
   "metadata": {},
   "outputs": [
    {
     "data": {
      "text/plain": [
       "0.8685851952582885"
      ]
     },
     "execution_count": 71,
     "metadata": {},
     "output_type": "execute_result"
    }
   ],
   "source": [
    "## evaluatin the model\n",
    "from sklearn.metrics import r2_score# to check model performance\n",
    "r2_score(y_test,y_gbm)#checking r2score\n",
    "\n",
    "\n"
   ]
  },
  {
   "cell_type": "code",
   "execution_count": 72,
   "id": "7e30a959",
   "metadata": {},
   "outputs": [
    {
     "data": {
      "text/plain": [
       "0.8691266794625719"
      ]
     },
     "execution_count": 72,
     "metadata": {},
     "output_type": "execute_result"
    }
   ],
   "source": [
    "adj_r2_score=1-(1-0.87)*(1050-1)/(1050-7-1)#adjusted r2 score\n",
    "adj_r2_score"
   ]
  },
  {
   "cell_type": "code",
   "execution_count": 73,
   "id": "df3c463b",
   "metadata": {},
   "outputs": [
    {
     "data": {
      "text/plain": [
       "(268, 6)"
      ]
     },
     "execution_count": 73,
     "metadata": {},
     "output_type": "execute_result"
    }
   ],
   "source": [
    "X_test.shape#rows and columns"
   ]
  },
  {
   "cell_type": "code",
   "execution_count": 74,
   "id": "52487ca8",
   "metadata": {},
   "outputs": [
    {
     "data": {
      "text/plain": [
       "(1070, 6)"
      ]
     },
     "execution_count": 74,
     "metadata": {},
     "output_type": "execute_result"
    }
   ],
   "source": [
    "X_train.shape"
   ]
  },
  {
   "cell_type": "markdown",
   "id": "f7a9e4c3",
   "metadata": {},
   "source": [
    "# XGBOOST"
   ]
  },
  {
   "cell_type": "markdown",
   "id": "e66f7015",
   "metadata": {},
   "source": [
    "### Import the models"
   ]
  },
  {
   "cell_type": "code",
   "execution_count": 75,
   "id": "d07fa274",
   "metadata": {},
   "outputs": [
    {
     "name": "stdout",
     "output_type": "stream",
     "text": [
      "Requirement already satisfied: xgboost in c:\\users\\rog zephyrus\\anaconda3\\data science\\lib\\site-packages (1.6.1)\n",
      "Requirement already satisfied: scipy in c:\\users\\rog zephyrus\\anaconda3\\data science\\lib\\site-packages (from xgboost) (1.7.1)\n",
      "Requirement already satisfied: numpy in c:\\users\\rog zephyrus\\anaconda3\\data science\\lib\\site-packages (from xgboost) (1.20.3)\n"
     ]
    }
   ],
   "source": [
    "## Installing XGB library\n",
    "\n",
    "!pip install xgboost"
   ]
  },
  {
   "cell_type": "markdown",
   "id": "f574f090",
   "metadata": {},
   "source": [
    "### Model Training"
   ]
  },
  {
   "cell_type": "code",
   "execution_count": 76,
   "id": "9b8360b1",
   "metadata": {},
   "outputs": [
    {
     "name": "stdout",
     "output_type": "stream",
     "text": [
      "<class 'pandas.core.frame.DataFrame'>\n",
      "Int64Index: 1070 entries, 882 to 1192\n",
      "Data columns (total 6 columns):\n",
      " #   Column    Non-Null Count  Dtype  \n",
      "---  ------    --------------  -----  \n",
      " 0   Age       1070 non-null   float64\n",
      " 1   Sex       1070 non-null   int64  \n",
      " 2   BMI       1070 non-null   float64\n",
      " 3   Children  1070 non-null   int64  \n",
      " 4   Smoker    1070 non-null   int64  \n",
      " 5   Region    1070 non-null   int64  \n",
      "dtypes: float64(2), int64(4)\n",
      "memory usage: 58.5 KB\n"
     ]
    }
   ],
   "source": [
    "X_train.info()"
   ]
  },
  {
   "cell_type": "code",
   "execution_count": 77,
   "id": "e6350e24",
   "metadata": {},
   "outputs": [],
   "source": [
    "## model creation\n",
    "#importing the model library\n",
    "from xgboost import XGBRegressor\n",
    "\n",
    "#xgb_r = XGBRegressor(objective ='reg:linear', n_estimators = 10, seed = 123)\n",
    "\n",
    "\n",
    "xgb_r= XGBRegressor() ## object creation\n",
    "xgb_r.fit(X_train,y_train)# fitting the data\n",
    "y_hat=xgb_r.predict(X_test)#predicting the price"
   ]
  },
  {
   "cell_type": "markdown",
   "id": "7a7fc5ad",
   "metadata": {},
   "source": [
    "### Model Evaluation"
   ]
  },
  {
   "cell_type": "code",
   "execution_count": 87,
   "id": "202944bb",
   "metadata": {},
   "outputs": [
    {
     "data": {
      "text/plain": [
       "0.8217240157154369"
      ]
     },
     "execution_count": 87,
     "metadata": {},
     "output_type": "execute_result"
    }
   ],
   "source": [
    "from sklearn.metrics import r2_score\n",
    "r2_score(y_test,y_hat)#R2 score"
   ]
  },
  {
   "cell_type": "markdown",
   "id": "0a520905",
   "metadata": {},
   "source": [
    "**Pros**\n",
    "\n",
    "1 Less feature engineering required (No need for scaling, normalizing data, can also handle missing values well)\n",
    "\n",
    "2 Feature importance can be found out(it output importance of each feature, can be used for feature selection)\n",
    "\n",
    "3 Outliers have minimal impact.\n",
    "\n",
    "4 Handles large sized datasets well.\n",
    "\n",
    "5 Good Execution speed\n",
    "\n",
    "6 Good model performance (wins most of the Kaggle competitions)\n",
    "\n",
    "7 Less prone to overfitting\n",
    "\n",
    "**Cons**\n",
    "\n",
    "1 Difficult interpretation , visualization tough\n",
    "\n",
    "2 Overfitting possible if parameters not tuned proper\n",
    "\n"
   ]
  },
  {
   "cell_type": "markdown",
   "id": "f9da62bd",
   "metadata": {},
   "source": [
    "# Conclusion"
   ]
  },
  {
   "cell_type": "markdown",
   "id": "ff549a8d",
   "metadata": {},
   "source": [
    " Since i have tried with all 4 models in which **Gradient Boosting** model gives more r2 score for testing data\n",
    "\n",
    "​"
   ]
  },
  {
   "cell_type": "code",
   "execution_count": null,
   "id": "f02b0cef",
   "metadata": {},
   "outputs": [],
   "source": []
  }
 ],
 "metadata": {
  "kernelspec": {
   "display_name": "Python 3 (ipykernel)",
   "language": "python",
   "name": "python3"
  },
  "language_info": {
   "codemirror_mode": {
    "name": "ipython",
    "version": 3
   },
   "file_extension": ".py",
   "mimetype": "text/x-python",
   "name": "python",
   "nbconvert_exporter": "python",
   "pygments_lexer": "ipython3",
   "version": "3.9.7"
  },
  "papermill": {
   "default_parameters": {},
   "duration": 17.466367,
   "end_time": "2021-10-31T15:16:49.923395",
   "environment_variables": {},
   "exception": null,
   "input_path": "__notebook__.ipynb",
   "output_path": "__notebook__.ipynb",
   "parameters": {},
   "start_time": "2021-10-31T15:16:32.457028",
   "version": "2.3.3"
  }
 },
 "nbformat": 4,
 "nbformat_minor": 5
}
